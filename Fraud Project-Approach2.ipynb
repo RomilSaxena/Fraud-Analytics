{
 "cells": [
  {
   "cell_type": "code",
   "execution_count": 109,
   "metadata": {},
   "outputs": [],
   "source": [
    "# Import the numpy and pandas packages\n",
    "\n",
    "import numpy as np\n",
    "import pandas as pd\n",
    "import datetime\n",
    "%config IPCompleter.greedy=True"
   ]
  },
  {
   "cell_type": "code",
   "execution_count": 127,
   "metadata": {},
   "outputs": [],
   "source": [
    "fraudDataset = pd.read_excel(\"Fraud+Analytics+Dataset.xlsx\") #Loading the Dataset"
   ]
  },
  {
   "cell_type": "code",
   "execution_count": 150,
   "metadata": {
    "scrolled": false
   },
   "outputs": [
    {
     "name": "stdout",
     "output_type": "stream",
     "text": [
      "<class 'pandas.core.frame.DataFrame'>\n",
      "RangeIndex: 151112 entries, 0 to 151111\n",
      "Data columns (total 10 columns):\n",
      " #   Column          Non-Null Count   Dtype         \n",
      "---  ------          --------------   -----         \n",
      " 0   user_id         151112 non-null  int64         \n",
      " 1   signup_date     151112 non-null  datetime64[ns]\n",
      " 2   purchase date   151112 non-null  datetime64[ns]\n",
      " 3   purchase_time   151112 non-null  object        \n",
      " 4   purchase_value  151112 non-null  int64         \n",
      " 5   source          151112 non-null  object        \n",
      " 6   browser         151112 non-null  object        \n",
      " 7   sex             151112 non-null  object        \n",
      " 8   age             151112 non-null  int64         \n",
      " 9   is_fraud        151112 non-null  int64         \n",
      "dtypes: datetime64[ns](2), int64(4), object(4)\n",
      "memory usage: 11.5+ MB\n"
     ]
    }
   ],
   "source": [
    "fraudDataset.info()"
   ]
  },
  {
   "cell_type": "markdown",
   "metadata": {},
   "source": [
    "# Hypothesis 1"
   ]
  },
  {
   "cell_type": "code",
   "execution_count": 129,
   "metadata": {},
   "outputs": [],
   "source": [
    "q2Hypotheis1CopyData = fraudDataset.copy()"
   ]
  },
  {
   "cell_type": "code",
   "execution_count": 130,
   "metadata": {},
   "outputs": [],
   "source": [
    "allFraud = q2Hypotheis1CopyData.loc[q2Hypotheis1CopyData.is_fraud == 1]"
   ]
  },
  {
   "cell_type": "code",
   "execution_count": 131,
   "metadata": {},
   "outputs": [
    {
     "data": {
      "text/html": [
       "<div>\n",
       "<style scoped>\n",
       "    .dataframe tbody tr th:only-of-type {\n",
       "        vertical-align: middle;\n",
       "    }\n",
       "\n",
       "    .dataframe tbody tr th {\n",
       "        vertical-align: top;\n",
       "    }\n",
       "\n",
       "    .dataframe thead th {\n",
       "        text-align: right;\n",
       "    }\n",
       "</style>\n",
       "<table border=\"1\" class=\"dataframe\">\n",
       "  <thead>\n",
       "    <tr style=\"text-align: right;\">\n",
       "      <th></th>\n",
       "      <th>user_id</th>\n",
       "      <th>signup_date</th>\n",
       "      <th>purchase date</th>\n",
       "      <th>purchase_time</th>\n",
       "      <th>purchase_value</th>\n",
       "      <th>source</th>\n",
       "      <th>browser</th>\n",
       "      <th>sex</th>\n",
       "      <th>age</th>\n",
       "      <th>is_fraud</th>\n",
       "    </tr>\n",
       "  </thead>\n",
       "  <tbody>\n",
       "    <tr>\n",
       "      <th>2</th>\n",
       "      <td>1359</td>\n",
       "      <td>2015-01-01 18:52:44</td>\n",
       "      <td>2015-01-01</td>\n",
       "      <td>18:52:45</td>\n",
       "      <td>15</td>\n",
       "      <td>SEO</td>\n",
       "      <td>Opera</td>\n",
       "      <td>M</td>\n",
       "      <td>53</td>\n",
       "      <td>1</td>\n",
       "    </tr>\n",
       "    <tr>\n",
       "      <th>24</th>\n",
       "      <td>171711</td>\n",
       "      <td>2015-01-11 01:51:15</td>\n",
       "      <td>2015-01-11</td>\n",
       "      <td>01:51:16</td>\n",
       "      <td>52</td>\n",
       "      <td>Direct</td>\n",
       "      <td>IE</td>\n",
       "      <td>F</td>\n",
       "      <td>35</td>\n",
       "      <td>1</td>\n",
       "    </tr>\n",
       "    <tr>\n",
       "      <th>25</th>\n",
       "      <td>59780</td>\n",
       "      <td>2015-01-04 22:32:33</td>\n",
       "      <td>2015-01-16</td>\n",
       "      <td>01:13:43</td>\n",
       "      <td>31</td>\n",
       "      <td>SEO</td>\n",
       "      <td>FireFox</td>\n",
       "      <td>M</td>\n",
       "      <td>36</td>\n",
       "      <td>1</td>\n",
       "    </tr>\n",
       "    <tr>\n",
       "      <th>29</th>\n",
       "      <td>151705</td>\n",
       "      <td>2015-01-07 03:44:53</td>\n",
       "      <td>2015-01-07</td>\n",
       "      <td>03:44:54</td>\n",
       "      <td>48</td>\n",
       "      <td>SEO</td>\n",
       "      <td>Chrome</td>\n",
       "      <td>F</td>\n",
       "      <td>27</td>\n",
       "      <td>1</td>\n",
       "    </tr>\n",
       "    <tr>\n",
       "      <th>59</th>\n",
       "      <td>345865</td>\n",
       "      <td>2015-02-01 05:59:23</td>\n",
       "      <td>2015-02-20</td>\n",
       "      <td>08:09:10</td>\n",
       "      <td>36</td>\n",
       "      <td>SEO</td>\n",
       "      <td>IE</td>\n",
       "      <td>M</td>\n",
       "      <td>30</td>\n",
       "      <td>1</td>\n",
       "    </tr>\n",
       "    <tr>\n",
       "      <th>...</th>\n",
       "      <td>...</td>\n",
       "      <td>...</td>\n",
       "      <td>...</td>\n",
       "      <td>...</td>\n",
       "      <td>...</td>\n",
       "      <td>...</td>\n",
       "      <td>...</td>\n",
       "      <td>...</td>\n",
       "      <td>...</td>\n",
       "      <td>...</td>\n",
       "    </tr>\n",
       "    <tr>\n",
       "      <th>151082</th>\n",
       "      <td>305464</td>\n",
       "      <td>2015-01-07 09:06:55</td>\n",
       "      <td>2015-01-07</td>\n",
       "      <td>09:06:56</td>\n",
       "      <td>90</td>\n",
       "      <td>SEO</td>\n",
       "      <td>IE</td>\n",
       "      <td>M</td>\n",
       "      <td>34</td>\n",
       "      <td>1</td>\n",
       "    </tr>\n",
       "    <tr>\n",
       "      <th>151099</th>\n",
       "      <td>115473</td>\n",
       "      <td>2015-01-01 07:26:14</td>\n",
       "      <td>2015-01-01</td>\n",
       "      <td>07:26:15</td>\n",
       "      <td>61</td>\n",
       "      <td>Direct</td>\n",
       "      <td>IE</td>\n",
       "      <td>M</td>\n",
       "      <td>24</td>\n",
       "      <td>1</td>\n",
       "    </tr>\n",
       "    <tr>\n",
       "      <th>151103</th>\n",
       "      <td>5557</td>\n",
       "      <td>2015-01-04 23:03:04</td>\n",
       "      <td>2015-01-04</td>\n",
       "      <td>23:03:05</td>\n",
       "      <td>27</td>\n",
       "      <td>Direct</td>\n",
       "      <td>Chrome</td>\n",
       "      <td>M</td>\n",
       "      <td>39</td>\n",
       "      <td>1</td>\n",
       "    </tr>\n",
       "    <tr>\n",
       "      <th>151104</th>\n",
       "      <td>252360</td>\n",
       "      <td>2015-01-04 09:40:44</td>\n",
       "      <td>2015-01-04</td>\n",
       "      <td>09:40:45</td>\n",
       "      <td>20</td>\n",
       "      <td>Ads</td>\n",
       "      <td>IE</td>\n",
       "      <td>F</td>\n",
       "      <td>39</td>\n",
       "      <td>1</td>\n",
       "    </tr>\n",
       "    <tr>\n",
       "      <th>151107</th>\n",
       "      <td>345170</td>\n",
       "      <td>2015-01-27 03:03:34</td>\n",
       "      <td>2015-03-29</td>\n",
       "      <td>00:30:47</td>\n",
       "      <td>43</td>\n",
       "      <td>SEO</td>\n",
       "      <td>Chrome</td>\n",
       "      <td>M</td>\n",
       "      <td>28</td>\n",
       "      <td>1</td>\n",
       "    </tr>\n",
       "  </tbody>\n",
       "</table>\n",
       "<p>14151 rows × 10 columns</p>\n",
       "</div>"
      ],
      "text/plain": [
       "        user_id         signup_date purchase date purchase_time  \\\n",
       "2          1359 2015-01-01 18:52:44    2015-01-01      18:52:45   \n",
       "24       171711 2015-01-11 01:51:15    2015-01-11      01:51:16   \n",
       "25        59780 2015-01-04 22:32:33    2015-01-16      01:13:43   \n",
       "29       151705 2015-01-07 03:44:53    2015-01-07      03:44:54   \n",
       "59       345865 2015-02-01 05:59:23    2015-02-20      08:09:10   \n",
       "...         ...                 ...           ...           ...   \n",
       "151082   305464 2015-01-07 09:06:55    2015-01-07      09:06:56   \n",
       "151099   115473 2015-01-01 07:26:14    2015-01-01      07:26:15   \n",
       "151103     5557 2015-01-04 23:03:04    2015-01-04      23:03:05   \n",
       "151104   252360 2015-01-04 09:40:44    2015-01-04      09:40:45   \n",
       "151107   345170 2015-01-27 03:03:34    2015-03-29      00:30:47   \n",
       "\n",
       "        purchase_value  source  browser sex  age  is_fraud  \n",
       "2                   15     SEO    Opera   M   53         1  \n",
       "24                  52  Direct       IE   F   35         1  \n",
       "25                  31     SEO  FireFox   M   36         1  \n",
       "29                  48     SEO   Chrome   F   27         1  \n",
       "59                  36     SEO       IE   M   30         1  \n",
       "...                ...     ...      ...  ..  ...       ...  \n",
       "151082              90     SEO       IE   M   34         1  \n",
       "151099              61  Direct       IE   M   24         1  \n",
       "151103              27  Direct   Chrome   M   39         1  \n",
       "151104              20     Ads       IE   F   39         1  \n",
       "151107              43     SEO   Chrome   M   28         1  \n",
       "\n",
       "[14151 rows x 10 columns]"
      ]
     },
     "execution_count": 131,
     "metadata": {},
     "output_type": "execute_result"
    }
   ],
   "source": [
    "allFraud"
   ]
  },
  {
   "cell_type": "code",
   "execution_count": 132,
   "metadata": {},
   "outputs": [
    {
     "name": "stderr",
     "output_type": "stream",
     "text": [
      "C:\\Users\\My-PC\\anaconda3\\lib\\site-packages\\ipykernel_launcher.py:1: SettingWithCopyWarning: \n",
      "A value is trying to be set on a copy of a slice from a DataFrame.\n",
      "Try using .loc[row_indexer,col_indexer] = value instead\n",
      "\n",
      "See the caveats in the documentation: https://pandas.pydata.org/pandas-docs/stable/user_guide/indexing.html#returning-a-view-versus-a-copy\n",
      "  \"\"\"Entry point for launching an IPython kernel.\n"
     ]
    }
   ],
   "source": [
    "allFraud['signup_onlydate'] = pd.to_datetime(allFraud['signup_date'].dt.date)"
   ]
  },
  {
   "cell_type": "code",
   "execution_count": 133,
   "metadata": {},
   "outputs": [
    {
     "name": "stderr",
     "output_type": "stream",
     "text": [
      "C:\\Users\\My-PC\\anaconda3\\lib\\site-packages\\ipykernel_launcher.py:1: SettingWithCopyWarning: \n",
      "A value is trying to be set on a copy of a slice from a DataFrame.\n",
      "Try using .loc[row_indexer,col_indexer] = value instead\n",
      "\n",
      "See the caveats in the documentation: https://pandas.pydata.org/pandas-docs/stable/user_guide/indexing.html#returning-a-view-versus-a-copy\n",
      "  \"\"\"Entry point for launching an IPython kernel.\n"
     ]
    }
   ],
   "source": [
    "allFraud['signup_Equals_PurchaseDate']=np.where(allFraud['signup_onlydate'] == allFraud['purchase date'],\"Yes\",\"No\")"
   ]
  },
  {
   "cell_type": "code",
   "execution_count": 134,
   "metadata": {},
   "outputs": [
    {
     "data": {
      "text/html": [
       "<div>\n",
       "<style scoped>\n",
       "    .dataframe tbody tr th:only-of-type {\n",
       "        vertical-align: middle;\n",
       "    }\n",
       "\n",
       "    .dataframe tbody tr th {\n",
       "        vertical-align: top;\n",
       "    }\n",
       "\n",
       "    .dataframe thead th {\n",
       "        text-align: right;\n",
       "    }\n",
       "</style>\n",
       "<table border=\"1\" class=\"dataframe\">\n",
       "  <thead>\n",
       "    <tr style=\"text-align: right;\">\n",
       "      <th></th>\n",
       "      <th>user_id</th>\n",
       "      <th>signup_date</th>\n",
       "      <th>purchase date</th>\n",
       "      <th>purchase_time</th>\n",
       "      <th>purchase_value</th>\n",
       "      <th>source</th>\n",
       "      <th>browser</th>\n",
       "      <th>sex</th>\n",
       "      <th>age</th>\n",
       "      <th>is_fraud</th>\n",
       "      <th>signup_onlydate</th>\n",
       "      <th>signup_Equals_PurchaseDate</th>\n",
       "    </tr>\n",
       "  </thead>\n",
       "  <tbody>\n",
       "    <tr>\n",
       "      <th>2</th>\n",
       "      <td>1359</td>\n",
       "      <td>2015-01-01 18:52:44</td>\n",
       "      <td>2015-01-01</td>\n",
       "      <td>18:52:45</td>\n",
       "      <td>15</td>\n",
       "      <td>SEO</td>\n",
       "      <td>Opera</td>\n",
       "      <td>M</td>\n",
       "      <td>53</td>\n",
       "      <td>1</td>\n",
       "      <td>2015-01-01</td>\n",
       "      <td>Yes</td>\n",
       "    </tr>\n",
       "    <tr>\n",
       "      <th>24</th>\n",
       "      <td>171711</td>\n",
       "      <td>2015-01-11 01:51:15</td>\n",
       "      <td>2015-01-11</td>\n",
       "      <td>01:51:16</td>\n",
       "      <td>52</td>\n",
       "      <td>Direct</td>\n",
       "      <td>IE</td>\n",
       "      <td>F</td>\n",
       "      <td>35</td>\n",
       "      <td>1</td>\n",
       "      <td>2015-01-11</td>\n",
       "      <td>Yes</td>\n",
       "    </tr>\n",
       "    <tr>\n",
       "      <th>25</th>\n",
       "      <td>59780</td>\n",
       "      <td>2015-01-04 22:32:33</td>\n",
       "      <td>2015-01-16</td>\n",
       "      <td>01:13:43</td>\n",
       "      <td>31</td>\n",
       "      <td>SEO</td>\n",
       "      <td>FireFox</td>\n",
       "      <td>M</td>\n",
       "      <td>36</td>\n",
       "      <td>1</td>\n",
       "      <td>2015-01-04</td>\n",
       "      <td>No</td>\n",
       "    </tr>\n",
       "    <tr>\n",
       "      <th>29</th>\n",
       "      <td>151705</td>\n",
       "      <td>2015-01-07 03:44:53</td>\n",
       "      <td>2015-01-07</td>\n",
       "      <td>03:44:54</td>\n",
       "      <td>48</td>\n",
       "      <td>SEO</td>\n",
       "      <td>Chrome</td>\n",
       "      <td>F</td>\n",
       "      <td>27</td>\n",
       "      <td>1</td>\n",
       "      <td>2015-01-07</td>\n",
       "      <td>Yes</td>\n",
       "    </tr>\n",
       "    <tr>\n",
       "      <th>59</th>\n",
       "      <td>345865</td>\n",
       "      <td>2015-02-01 05:59:23</td>\n",
       "      <td>2015-02-20</td>\n",
       "      <td>08:09:10</td>\n",
       "      <td>36</td>\n",
       "      <td>SEO</td>\n",
       "      <td>IE</td>\n",
       "      <td>M</td>\n",
       "      <td>30</td>\n",
       "      <td>1</td>\n",
       "      <td>2015-02-01</td>\n",
       "      <td>No</td>\n",
       "    </tr>\n",
       "    <tr>\n",
       "      <th>...</th>\n",
       "      <td>...</td>\n",
       "      <td>...</td>\n",
       "      <td>...</td>\n",
       "      <td>...</td>\n",
       "      <td>...</td>\n",
       "      <td>...</td>\n",
       "      <td>...</td>\n",
       "      <td>...</td>\n",
       "      <td>...</td>\n",
       "      <td>...</td>\n",
       "      <td>...</td>\n",
       "      <td>...</td>\n",
       "    </tr>\n",
       "    <tr>\n",
       "      <th>151082</th>\n",
       "      <td>305464</td>\n",
       "      <td>2015-01-07 09:06:55</td>\n",
       "      <td>2015-01-07</td>\n",
       "      <td>09:06:56</td>\n",
       "      <td>90</td>\n",
       "      <td>SEO</td>\n",
       "      <td>IE</td>\n",
       "      <td>M</td>\n",
       "      <td>34</td>\n",
       "      <td>1</td>\n",
       "      <td>2015-01-07</td>\n",
       "      <td>Yes</td>\n",
       "    </tr>\n",
       "    <tr>\n",
       "      <th>151099</th>\n",
       "      <td>115473</td>\n",
       "      <td>2015-01-01 07:26:14</td>\n",
       "      <td>2015-01-01</td>\n",
       "      <td>07:26:15</td>\n",
       "      <td>61</td>\n",
       "      <td>Direct</td>\n",
       "      <td>IE</td>\n",
       "      <td>M</td>\n",
       "      <td>24</td>\n",
       "      <td>1</td>\n",
       "      <td>2015-01-01</td>\n",
       "      <td>Yes</td>\n",
       "    </tr>\n",
       "    <tr>\n",
       "      <th>151103</th>\n",
       "      <td>5557</td>\n",
       "      <td>2015-01-04 23:03:04</td>\n",
       "      <td>2015-01-04</td>\n",
       "      <td>23:03:05</td>\n",
       "      <td>27</td>\n",
       "      <td>Direct</td>\n",
       "      <td>Chrome</td>\n",
       "      <td>M</td>\n",
       "      <td>39</td>\n",
       "      <td>1</td>\n",
       "      <td>2015-01-04</td>\n",
       "      <td>Yes</td>\n",
       "    </tr>\n",
       "    <tr>\n",
       "      <th>151104</th>\n",
       "      <td>252360</td>\n",
       "      <td>2015-01-04 09:40:44</td>\n",
       "      <td>2015-01-04</td>\n",
       "      <td>09:40:45</td>\n",
       "      <td>20</td>\n",
       "      <td>Ads</td>\n",
       "      <td>IE</td>\n",
       "      <td>F</td>\n",
       "      <td>39</td>\n",
       "      <td>1</td>\n",
       "      <td>2015-01-04</td>\n",
       "      <td>Yes</td>\n",
       "    </tr>\n",
       "    <tr>\n",
       "      <th>151107</th>\n",
       "      <td>345170</td>\n",
       "      <td>2015-01-27 03:03:34</td>\n",
       "      <td>2015-03-29</td>\n",
       "      <td>00:30:47</td>\n",
       "      <td>43</td>\n",
       "      <td>SEO</td>\n",
       "      <td>Chrome</td>\n",
       "      <td>M</td>\n",
       "      <td>28</td>\n",
       "      <td>1</td>\n",
       "      <td>2015-01-27</td>\n",
       "      <td>No</td>\n",
       "    </tr>\n",
       "  </tbody>\n",
       "</table>\n",
       "<p>14151 rows × 12 columns</p>\n",
       "</div>"
      ],
      "text/plain": [
       "        user_id         signup_date purchase date purchase_time  \\\n",
       "2          1359 2015-01-01 18:52:44    2015-01-01      18:52:45   \n",
       "24       171711 2015-01-11 01:51:15    2015-01-11      01:51:16   \n",
       "25        59780 2015-01-04 22:32:33    2015-01-16      01:13:43   \n",
       "29       151705 2015-01-07 03:44:53    2015-01-07      03:44:54   \n",
       "59       345865 2015-02-01 05:59:23    2015-02-20      08:09:10   \n",
       "...         ...                 ...           ...           ...   \n",
       "151082   305464 2015-01-07 09:06:55    2015-01-07      09:06:56   \n",
       "151099   115473 2015-01-01 07:26:14    2015-01-01      07:26:15   \n",
       "151103     5557 2015-01-04 23:03:04    2015-01-04      23:03:05   \n",
       "151104   252360 2015-01-04 09:40:44    2015-01-04      09:40:45   \n",
       "151107   345170 2015-01-27 03:03:34    2015-03-29      00:30:47   \n",
       "\n",
       "        purchase_value  source  browser sex  age  is_fraud signup_onlydate  \\\n",
       "2                   15     SEO    Opera   M   53         1      2015-01-01   \n",
       "24                  52  Direct       IE   F   35         1      2015-01-11   \n",
       "25                  31     SEO  FireFox   M   36         1      2015-01-04   \n",
       "29                  48     SEO   Chrome   F   27         1      2015-01-07   \n",
       "59                  36     SEO       IE   M   30         1      2015-02-01   \n",
       "...                ...     ...      ...  ..  ...       ...             ...   \n",
       "151082              90     SEO       IE   M   34         1      2015-01-07   \n",
       "151099              61  Direct       IE   M   24         1      2015-01-01   \n",
       "151103              27  Direct   Chrome   M   39         1      2015-01-04   \n",
       "151104              20     Ads       IE   F   39         1      2015-01-04   \n",
       "151107              43     SEO   Chrome   M   28         1      2015-01-27   \n",
       "\n",
       "       signup_Equals_PurchaseDate  \n",
       "2                             Yes  \n",
       "24                            Yes  \n",
       "25                             No  \n",
       "29                            Yes  \n",
       "59                             No  \n",
       "...                           ...  \n",
       "151082                        Yes  \n",
       "151099                        Yes  \n",
       "151103                        Yes  \n",
       "151104                        Yes  \n",
       "151107                         No  \n",
       "\n",
       "[14151 rows x 12 columns]"
      ]
     },
     "execution_count": 134,
     "metadata": {},
     "output_type": "execute_result"
    }
   ],
   "source": [
    "allFraud"
   ]
  },
  {
   "cell_type": "code",
   "execution_count": 135,
   "metadata": {
    "scrolled": true
   },
   "outputs": [
    {
     "data": {
      "text/plain": [
       "Yes    7630\n",
       "No     6521\n",
       "Name: signup_Equals_PurchaseDate, dtype: int64"
      ]
     },
     "execution_count": 135,
     "metadata": {},
     "output_type": "execute_result"
    }
   ],
   "source": [
    "allFraud['signup_Equals_PurchaseDate'].value_counts()"
   ]
  },
  {
   "cell_type": "code",
   "execution_count": 136,
   "metadata": {},
   "outputs": [
    {
     "data": {
      "text/plain": [
       "Yes    54.0\n",
       "No     46.0\n",
       "Name: signup_Equals_PurchaseDate, dtype: float64"
      ]
     },
     "execution_count": 136,
     "metadata": {},
     "output_type": "execute_result"
    }
   ],
   "source": [
    "round((allFraud['signup_Equals_PurchaseDate'].value_counts(normalize=True))*100)"
   ]
  },
  {
   "cell_type": "code",
   "execution_count": 137,
   "metadata": {},
   "outputs": [],
   "source": [
    "# We can see that there are 14151 records which are marked as Fraud in the dataset,\n",
    "# Also 7630 Fraudalent transactions happened where the SignUp Date was same as Purchase Date\n",
    "# We can clearly see that 54% fraudalent transction happened when the SignUpDate was same as Purchase Date therefore the Hypothesis \" Transactions that occur within the same date as sign-up have a higher probability of being fraudulent in nature.\" is TRUE"
   ]
  },
  {
   "cell_type": "code",
   "execution_count": null,
   "metadata": {},
   "outputs": [],
   "source": []
  },
  {
   "cell_type": "markdown",
   "metadata": {},
   "source": [
    "# Hypothesis 2"
   ]
  },
  {
   "cell_type": "code",
   "execution_count": 138,
   "metadata": {},
   "outputs": [],
   "source": [
    "q2Hypotheis2CopyData = fraudDataset.copy()"
   ]
  },
  {
   "cell_type": "code",
   "execution_count": 139,
   "metadata": {},
   "outputs": [],
   "source": [
    "allFraudQ2 = q2Hypotheis2CopyData.loc[q2Hypotheis2CopyData.is_fraud == 1]"
   ]
  },
  {
   "cell_type": "code",
   "execution_count": 140,
   "metadata": {},
   "outputs": [
    {
     "name": "stdout",
     "output_type": "stream",
     "text": [
      "<class 'pandas.core.frame.DataFrame'>\n",
      "Int64Index: 14151 entries, 2 to 151107\n",
      "Data columns (total 10 columns):\n",
      " #   Column          Non-Null Count  Dtype         \n",
      "---  ------          --------------  -----         \n",
      " 0   user_id         14151 non-null  int64         \n",
      " 1   signup_date     14151 non-null  datetime64[ns]\n",
      " 2   purchase date   14151 non-null  datetime64[ns]\n",
      " 3   purchase_time   14151 non-null  object        \n",
      " 4   purchase_value  14151 non-null  int64         \n",
      " 5   source          14151 non-null  object        \n",
      " 6   browser         14151 non-null  object        \n",
      " 7   sex             14151 non-null  object        \n",
      " 8   age             14151 non-null  int64         \n",
      " 9   is_fraud        14151 non-null  int64         \n",
      "dtypes: datetime64[ns](2), int64(4), object(4)\n",
      "memory usage: 1.2+ MB\n"
     ]
    }
   ],
   "source": [
    "allFraudQ2.info()"
   ]
  },
  {
   "cell_type": "code",
   "execution_count": 141,
   "metadata": {},
   "outputs": [
    {
     "data": {
      "text/plain": [
       "2         18:52:45\n",
       "24        01:51:16\n",
       "25        01:13:43\n",
       "29        03:44:54\n",
       "59        08:09:10\n",
       "            ...   \n",
       "151082    09:06:56\n",
       "151099    07:26:15\n",
       "151103    23:03:05\n",
       "151104    09:40:45\n",
       "151107    00:30:47\n",
       "Name: purchase_time, Length: 14151, dtype: object"
      ]
     },
     "execution_count": 141,
     "metadata": {},
     "output_type": "execute_result"
    }
   ],
   "source": [
    "allFraudQ2['purchase_time']\n"
   ]
  },
  {
   "cell_type": "code",
   "execution_count": 142,
   "metadata": {},
   "outputs": [],
   "source": [
    "from datetime import time\n",
    "starttime = datetime.time(0,0,0)\n",
    "endtime = datetime.time(3,0,0)\n"
   ]
  },
  {
   "cell_type": "code",
   "execution_count": 143,
   "metadata": {
    "scrolled": true
   },
   "outputs": [
    {
     "name": "stderr",
     "output_type": "stream",
     "text": [
      "C:\\Users\\My-PC\\anaconda3\\lib\\site-packages\\ipykernel_launcher.py:1: SettingWithCopyWarning: \n",
      "A value is trying to be set on a copy of a slice from a DataFrame.\n",
      "Try using .loc[row_indexer,col_indexer] = value instead\n",
      "\n",
      "See the caveats in the documentation: https://pandas.pydata.org/pandas-docs/stable/user_guide/indexing.html#returning-a-view-versus-a-copy\n",
      "  \"\"\"Entry point for launching an IPython kernel.\n"
     ]
    }
   ],
   "source": [
    "allFraudQ2['PurchaseBetweenMidnightto3AM'] = np.where(((allFraudQ2['purchase_time'] > starttime) & (allFraudQ2['purchase_time'] < endtime)), \"Yes\", \"No\")"
   ]
  },
  {
   "cell_type": "code",
   "execution_count": 144,
   "metadata": {},
   "outputs": [
    {
     "data": {
      "text/html": [
       "<div>\n",
       "<style scoped>\n",
       "    .dataframe tbody tr th:only-of-type {\n",
       "        vertical-align: middle;\n",
       "    }\n",
       "\n",
       "    .dataframe tbody tr th {\n",
       "        vertical-align: top;\n",
       "    }\n",
       "\n",
       "    .dataframe thead th {\n",
       "        text-align: right;\n",
       "    }\n",
       "</style>\n",
       "<table border=\"1\" class=\"dataframe\">\n",
       "  <thead>\n",
       "    <tr style=\"text-align: right;\">\n",
       "      <th></th>\n",
       "      <th>user_id</th>\n",
       "      <th>signup_date</th>\n",
       "      <th>purchase date</th>\n",
       "      <th>purchase_time</th>\n",
       "      <th>purchase_value</th>\n",
       "      <th>source</th>\n",
       "      <th>browser</th>\n",
       "      <th>sex</th>\n",
       "      <th>age</th>\n",
       "      <th>is_fraud</th>\n",
       "      <th>PurchaseBetweenMidnightto3AM</th>\n",
       "    </tr>\n",
       "  </thead>\n",
       "  <tbody>\n",
       "    <tr>\n",
       "      <th>2</th>\n",
       "      <td>1359</td>\n",
       "      <td>2015-01-01 18:52:44</td>\n",
       "      <td>2015-01-01</td>\n",
       "      <td>18:52:45</td>\n",
       "      <td>15</td>\n",
       "      <td>SEO</td>\n",
       "      <td>Opera</td>\n",
       "      <td>M</td>\n",
       "      <td>53</td>\n",
       "      <td>1</td>\n",
       "      <td>No</td>\n",
       "    </tr>\n",
       "    <tr>\n",
       "      <th>24</th>\n",
       "      <td>171711</td>\n",
       "      <td>2015-01-11 01:51:15</td>\n",
       "      <td>2015-01-11</td>\n",
       "      <td>01:51:16</td>\n",
       "      <td>52</td>\n",
       "      <td>Direct</td>\n",
       "      <td>IE</td>\n",
       "      <td>F</td>\n",
       "      <td>35</td>\n",
       "      <td>1</td>\n",
       "      <td>Yes</td>\n",
       "    </tr>\n",
       "    <tr>\n",
       "      <th>25</th>\n",
       "      <td>59780</td>\n",
       "      <td>2015-01-04 22:32:33</td>\n",
       "      <td>2015-01-16</td>\n",
       "      <td>01:13:43</td>\n",
       "      <td>31</td>\n",
       "      <td>SEO</td>\n",
       "      <td>FireFox</td>\n",
       "      <td>M</td>\n",
       "      <td>36</td>\n",
       "      <td>1</td>\n",
       "      <td>Yes</td>\n",
       "    </tr>\n",
       "    <tr>\n",
       "      <th>29</th>\n",
       "      <td>151705</td>\n",
       "      <td>2015-01-07 03:44:53</td>\n",
       "      <td>2015-01-07</td>\n",
       "      <td>03:44:54</td>\n",
       "      <td>48</td>\n",
       "      <td>SEO</td>\n",
       "      <td>Chrome</td>\n",
       "      <td>F</td>\n",
       "      <td>27</td>\n",
       "      <td>1</td>\n",
       "      <td>No</td>\n",
       "    </tr>\n",
       "    <tr>\n",
       "      <th>59</th>\n",
       "      <td>345865</td>\n",
       "      <td>2015-02-01 05:59:23</td>\n",
       "      <td>2015-02-20</td>\n",
       "      <td>08:09:10</td>\n",
       "      <td>36</td>\n",
       "      <td>SEO</td>\n",
       "      <td>IE</td>\n",
       "      <td>M</td>\n",
       "      <td>30</td>\n",
       "      <td>1</td>\n",
       "      <td>No</td>\n",
       "    </tr>\n",
       "    <tr>\n",
       "      <th>...</th>\n",
       "      <td>...</td>\n",
       "      <td>...</td>\n",
       "      <td>...</td>\n",
       "      <td>...</td>\n",
       "      <td>...</td>\n",
       "      <td>...</td>\n",
       "      <td>...</td>\n",
       "      <td>...</td>\n",
       "      <td>...</td>\n",
       "      <td>...</td>\n",
       "      <td>...</td>\n",
       "    </tr>\n",
       "    <tr>\n",
       "      <th>151082</th>\n",
       "      <td>305464</td>\n",
       "      <td>2015-01-07 09:06:55</td>\n",
       "      <td>2015-01-07</td>\n",
       "      <td>09:06:56</td>\n",
       "      <td>90</td>\n",
       "      <td>SEO</td>\n",
       "      <td>IE</td>\n",
       "      <td>M</td>\n",
       "      <td>34</td>\n",
       "      <td>1</td>\n",
       "      <td>No</td>\n",
       "    </tr>\n",
       "    <tr>\n",
       "      <th>151099</th>\n",
       "      <td>115473</td>\n",
       "      <td>2015-01-01 07:26:14</td>\n",
       "      <td>2015-01-01</td>\n",
       "      <td>07:26:15</td>\n",
       "      <td>61</td>\n",
       "      <td>Direct</td>\n",
       "      <td>IE</td>\n",
       "      <td>M</td>\n",
       "      <td>24</td>\n",
       "      <td>1</td>\n",
       "      <td>No</td>\n",
       "    </tr>\n",
       "    <tr>\n",
       "      <th>151103</th>\n",
       "      <td>5557</td>\n",
       "      <td>2015-01-04 23:03:04</td>\n",
       "      <td>2015-01-04</td>\n",
       "      <td>23:03:05</td>\n",
       "      <td>27</td>\n",
       "      <td>Direct</td>\n",
       "      <td>Chrome</td>\n",
       "      <td>M</td>\n",
       "      <td>39</td>\n",
       "      <td>1</td>\n",
       "      <td>No</td>\n",
       "    </tr>\n",
       "    <tr>\n",
       "      <th>151104</th>\n",
       "      <td>252360</td>\n",
       "      <td>2015-01-04 09:40:44</td>\n",
       "      <td>2015-01-04</td>\n",
       "      <td>09:40:45</td>\n",
       "      <td>20</td>\n",
       "      <td>Ads</td>\n",
       "      <td>IE</td>\n",
       "      <td>F</td>\n",
       "      <td>39</td>\n",
       "      <td>1</td>\n",
       "      <td>No</td>\n",
       "    </tr>\n",
       "    <tr>\n",
       "      <th>151107</th>\n",
       "      <td>345170</td>\n",
       "      <td>2015-01-27 03:03:34</td>\n",
       "      <td>2015-03-29</td>\n",
       "      <td>00:30:47</td>\n",
       "      <td>43</td>\n",
       "      <td>SEO</td>\n",
       "      <td>Chrome</td>\n",
       "      <td>M</td>\n",
       "      <td>28</td>\n",
       "      <td>1</td>\n",
       "      <td>Yes</td>\n",
       "    </tr>\n",
       "  </tbody>\n",
       "</table>\n",
       "<p>14151 rows × 11 columns</p>\n",
       "</div>"
      ],
      "text/plain": [
       "        user_id         signup_date purchase date purchase_time  \\\n",
       "2          1359 2015-01-01 18:52:44    2015-01-01      18:52:45   \n",
       "24       171711 2015-01-11 01:51:15    2015-01-11      01:51:16   \n",
       "25        59780 2015-01-04 22:32:33    2015-01-16      01:13:43   \n",
       "29       151705 2015-01-07 03:44:53    2015-01-07      03:44:54   \n",
       "59       345865 2015-02-01 05:59:23    2015-02-20      08:09:10   \n",
       "...         ...                 ...           ...           ...   \n",
       "151082   305464 2015-01-07 09:06:55    2015-01-07      09:06:56   \n",
       "151099   115473 2015-01-01 07:26:14    2015-01-01      07:26:15   \n",
       "151103     5557 2015-01-04 23:03:04    2015-01-04      23:03:05   \n",
       "151104   252360 2015-01-04 09:40:44    2015-01-04      09:40:45   \n",
       "151107   345170 2015-01-27 03:03:34    2015-03-29      00:30:47   \n",
       "\n",
       "        purchase_value  source  browser sex  age  is_fraud  \\\n",
       "2                   15     SEO    Opera   M   53         1   \n",
       "24                  52  Direct       IE   F   35         1   \n",
       "25                  31     SEO  FireFox   M   36         1   \n",
       "29                  48     SEO   Chrome   F   27         1   \n",
       "59                  36     SEO       IE   M   30         1   \n",
       "...                ...     ...      ...  ..  ...       ...   \n",
       "151082              90     SEO       IE   M   34         1   \n",
       "151099              61  Direct       IE   M   24         1   \n",
       "151103              27  Direct   Chrome   M   39         1   \n",
       "151104              20     Ads       IE   F   39         1   \n",
       "151107              43     SEO   Chrome   M   28         1   \n",
       "\n",
       "       PurchaseBetweenMidnightto3AM  \n",
       "2                                No  \n",
       "24                              Yes  \n",
       "25                              Yes  \n",
       "29                               No  \n",
       "59                               No  \n",
       "...                             ...  \n",
       "151082                           No  \n",
       "151099                           No  \n",
       "151103                           No  \n",
       "151104                           No  \n",
       "151107                          Yes  \n",
       "\n",
       "[14151 rows x 11 columns]"
      ]
     },
     "execution_count": 144,
     "metadata": {},
     "output_type": "execute_result"
    }
   ],
   "source": [
    "allFraudQ2"
   ]
  },
  {
   "cell_type": "code",
   "execution_count": 146,
   "metadata": {},
   "outputs": [],
   "source": [
    "allFraudQ2.to_excel(\"RS2.xlsx\")"
   ]
  },
  {
   "cell_type": "code",
   "execution_count": 148,
   "metadata": {},
   "outputs": [
    {
     "data": {
      "text/plain": [
       "No     12455\n",
       "Yes     1696\n",
       "Name: PurchaseBetweenMidnightto3AM, dtype: int64"
      ]
     },
     "execution_count": 148,
     "metadata": {},
     "output_type": "execute_result"
    }
   ],
   "source": [
    "allFraudQ2['PurchaseBetweenMidnightto3AM'].value_counts()\n"
   ]
  },
  {
   "cell_type": "code",
   "execution_count": 149,
   "metadata": {},
   "outputs": [
    {
     "data": {
      "text/plain": [
       "No     88.0\n",
       "Yes    12.0\n",
       "Name: PurchaseBetweenMidnightto3AM, dtype: float64"
      ]
     },
     "execution_count": 149,
     "metadata": {},
     "output_type": "execute_result"
    }
   ],
   "source": [
    "round((allFraudQ2['PurchaseBetweenMidnightto3AM'].value_counts(normalize=True))*100)\n"
   ]
  },
  {
   "cell_type": "code",
   "execution_count": null,
   "metadata": {},
   "outputs": [],
   "source": [
    "# We can see that there are 14151 records which are marked as Fraud in the dataset,\n",
    "# Also only 1696 Fraudalent transactions happened between 12:00:00 AM (Midnight) and 3:00:00AM.\n",
    "# We can clearly see that only 12% fraudalent transction happened between 12:00:00 AM (Midnight) and 3:00:00AM therefore the Hypothesis \"Transactions that occur after midnight and before 3 am have a higher likelihood of being fraudulent in nature\" is FALSE"
   ]
  },
  {
   "cell_type": "code",
   "execution_count": null,
   "metadata": {},
   "outputs": [],
   "source": []
  },
  {
   "cell_type": "code",
   "execution_count": null,
   "metadata": {},
   "outputs": [],
   "source": []
  },
  {
   "cell_type": "code",
   "execution_count": null,
   "metadata": {},
   "outputs": [],
   "source": []
  },
  {
   "cell_type": "code",
   "execution_count": null,
   "metadata": {},
   "outputs": [],
   "source": []
  },
  {
   "cell_type": "code",
   "execution_count": null,
   "metadata": {},
   "outputs": [],
   "source": []
  },
  {
   "cell_type": "code",
   "execution_count": null,
   "metadata": {},
   "outputs": [],
   "source": []
  },
  {
   "cell_type": "code",
   "execution_count": null,
   "metadata": {},
   "outputs": [],
   "source": []
  },
  {
   "cell_type": "code",
   "execution_count": null,
   "metadata": {},
   "outputs": [],
   "source": []
  },
  {
   "cell_type": "code",
   "execution_count": null,
   "metadata": {},
   "outputs": [],
   "source": []
  },
  {
   "cell_type": "code",
   "execution_count": null,
   "metadata": {},
   "outputs": [],
   "source": []
  },
  {
   "cell_type": "code",
   "execution_count": null,
   "metadata": {},
   "outputs": [],
   "source": []
  },
  {
   "cell_type": "code",
   "execution_count": null,
   "metadata": {},
   "outputs": [],
   "source": []
  },
  {
   "cell_type": "code",
   "execution_count": null,
   "metadata": {},
   "outputs": [],
   "source": []
  },
  {
   "cell_type": "code",
   "execution_count": null,
   "metadata": {},
   "outputs": [],
   "source": []
  },
  {
   "cell_type": "code",
   "execution_count": null,
   "metadata": {},
   "outputs": [],
   "source": []
  },
  {
   "cell_type": "code",
   "execution_count": null,
   "metadata": {},
   "outputs": [],
   "source": []
  },
  {
   "cell_type": "code",
   "execution_count": null,
   "metadata": {},
   "outputs": [],
   "source": []
  },
  {
   "cell_type": "code",
   "execution_count": null,
   "metadata": {},
   "outputs": [],
   "source": []
  },
  {
   "cell_type": "code",
   "execution_count": null,
   "metadata": {},
   "outputs": [],
   "source": []
  },
  {
   "cell_type": "code",
   "execution_count": null,
   "metadata": {},
   "outputs": [],
   "source": []
  },
  {
   "cell_type": "code",
   "execution_count": null,
   "metadata": {},
   "outputs": [],
   "source": []
  },
  {
   "cell_type": "code",
   "execution_count": null,
   "metadata": {},
   "outputs": [],
   "source": []
  },
  {
   "cell_type": "code",
   "execution_count": null,
   "metadata": {},
   "outputs": [],
   "source": []
  }
 ],
 "metadata": {
  "kernelspec": {
   "display_name": "Python 3",
   "language": "python",
   "name": "python3"
  },
  "language_info": {
   "codemirror_mode": {
    "name": "ipython",
    "version": 3
   },
   "file_extension": ".py",
   "mimetype": "text/x-python",
   "name": "python",
   "nbconvert_exporter": "python",
   "pygments_lexer": "ipython3",
   "version": "3.7.6"
  }
 },
 "nbformat": 4,
 "nbformat_minor": 4
}
