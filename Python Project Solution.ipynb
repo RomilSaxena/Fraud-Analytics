{
 "cells": [
  {
   "cell_type": "markdown",
   "metadata": {},
   "source": [
    "\n",
    "#### Importing Packages"
   ]
  },
  {
   "cell_type": "code",
   "execution_count": 1,
   "metadata": {},
   "outputs": [],
   "source": [
    "%config IPCompleter.greedy=True\n",
    "import numpy as np\n",
    "import pandas as pd\n",
    "import datetime\n",
    "import matplotlib.pyplot as plt\n",
    "import seaborn as sns\n",
    "from matplotlib.pyplot import show\n"
   ]
  },
  {
   "cell_type": "code",
   "execution_count": 2,
   "metadata": {},
   "outputs": [],
   "source": [
    "fraudDataSetOrignal = pd.read_excel('Fraud+Analytics+Dataset.xlsx') #Importing the Dataset"
   ]
  },
  {
   "cell_type": "code",
   "execution_count": 3,
   "metadata": {},
   "outputs": [],
   "source": [
    "fraudDataSet = fraudDataSetOrignal.copy()"
   ]
  },
  {
   "cell_type": "code",
   "execution_count": 4,
   "metadata": {},
   "outputs": [
    {
     "data": {
      "text/html": [
       "<div>\n",
       "<style scoped>\n",
       "    .dataframe tbody tr th:only-of-type {\n",
       "        vertical-align: middle;\n",
       "    }\n",
       "\n",
       "    .dataframe tbody tr th {\n",
       "        vertical-align: top;\n",
       "    }\n",
       "\n",
       "    .dataframe thead th {\n",
       "        text-align: right;\n",
       "    }\n",
       "</style>\n",
       "<table border=\"1\" class=\"dataframe\">\n",
       "  <thead>\n",
       "    <tr style=\"text-align: right;\">\n",
       "      <th></th>\n",
       "      <th>user_id</th>\n",
       "      <th>signup_date</th>\n",
       "      <th>purchase date</th>\n",
       "      <th>purchase_time</th>\n",
       "      <th>purchase_value</th>\n",
       "      <th>source</th>\n",
       "      <th>browser</th>\n",
       "      <th>sex</th>\n",
       "      <th>age</th>\n",
       "      <th>is_fraud</th>\n",
       "    </tr>\n",
       "  </thead>\n",
       "  <tbody>\n",
       "    <tr>\n",
       "      <th>0</th>\n",
       "      <td>22058</td>\n",
       "      <td>2015-02-24 22:55:49</td>\n",
       "      <td>2015-04-18</td>\n",
       "      <td>02:47:11</td>\n",
       "      <td>34</td>\n",
       "      <td>SEO</td>\n",
       "      <td>Chrome</td>\n",
       "      <td>M</td>\n",
       "      <td>39</td>\n",
       "      <td>0</td>\n",
       "    </tr>\n",
       "    <tr>\n",
       "      <th>1</th>\n",
       "      <td>333320</td>\n",
       "      <td>2015-06-07 20:39:50</td>\n",
       "      <td>2015-06-08</td>\n",
       "      <td>01:38:54</td>\n",
       "      <td>16</td>\n",
       "      <td>Ads</td>\n",
       "      <td>Chrome</td>\n",
       "      <td>F</td>\n",
       "      <td>53</td>\n",
       "      <td>0</td>\n",
       "    </tr>\n",
       "    <tr>\n",
       "      <th>2</th>\n",
       "      <td>1359</td>\n",
       "      <td>2015-01-01 18:52:44</td>\n",
       "      <td>2015-01-01</td>\n",
       "      <td>18:52:45</td>\n",
       "      <td>15</td>\n",
       "      <td>SEO</td>\n",
       "      <td>Opera</td>\n",
       "      <td>M</td>\n",
       "      <td>53</td>\n",
       "      <td>1</td>\n",
       "    </tr>\n",
       "    <tr>\n",
       "      <th>3</th>\n",
       "      <td>150084</td>\n",
       "      <td>2015-04-28 21:13:25</td>\n",
       "      <td>2015-05-04</td>\n",
       "      <td>13:54:50</td>\n",
       "      <td>44</td>\n",
       "      <td>SEO</td>\n",
       "      <td>Safari</td>\n",
       "      <td>M</td>\n",
       "      <td>41</td>\n",
       "      <td>0</td>\n",
       "    </tr>\n",
       "    <tr>\n",
       "      <th>4</th>\n",
       "      <td>221365</td>\n",
       "      <td>2015-07-21 07:09:52</td>\n",
       "      <td>2015-09-09</td>\n",
       "      <td>18:40:53</td>\n",
       "      <td>39</td>\n",
       "      <td>Ads</td>\n",
       "      <td>Safari</td>\n",
       "      <td>M</td>\n",
       "      <td>45</td>\n",
       "      <td>0</td>\n",
       "    </tr>\n",
       "  </tbody>\n",
       "</table>\n",
       "</div>"
      ],
      "text/plain": [
       "   user_id         signup_date purchase date purchase_time  purchase_value  \\\n",
       "0    22058 2015-02-24 22:55:49    2015-04-18      02:47:11              34   \n",
       "1   333320 2015-06-07 20:39:50    2015-06-08      01:38:54              16   \n",
       "2     1359 2015-01-01 18:52:44    2015-01-01      18:52:45              15   \n",
       "3   150084 2015-04-28 21:13:25    2015-05-04      13:54:50              44   \n",
       "4   221365 2015-07-21 07:09:52    2015-09-09      18:40:53              39   \n",
       "\n",
       "  source browser sex  age  is_fraud  \n",
       "0    SEO  Chrome   M   39         0  \n",
       "1    Ads  Chrome   F   53         0  \n",
       "2    SEO   Opera   M   53         1  \n",
       "3    SEO  Safari   M   41         0  \n",
       "4    Ads  Safari   M   45         0  "
      ]
     },
     "execution_count": 4,
     "metadata": {},
     "output_type": "execute_result"
    }
   ],
   "source": [
    "fraudDataSet.head(5) #Checking the column Names and value"
   ]
  },
  {
   "cell_type": "code",
   "execution_count": 5,
   "metadata": {},
   "outputs": [
    {
     "name": "stdout",
     "output_type": "stream",
     "text": [
      "<class 'pandas.core.frame.DataFrame'>\n",
      "RangeIndex: 151112 entries, 0 to 151111\n",
      "Data columns (total 10 columns):\n",
      " #   Column          Non-Null Count   Dtype         \n",
      "---  ------          --------------   -----         \n",
      " 0   user_id         151112 non-null  int64         \n",
      " 1   signup_date     151112 non-null  datetime64[ns]\n",
      " 2   purchase date   151112 non-null  datetime64[ns]\n",
      " 3   purchase_time   151112 non-null  object        \n",
      " 4   purchase_value  151112 non-null  int64         \n",
      " 5   source          151112 non-null  object        \n",
      " 6   browser         151112 non-null  object        \n",
      " 7   sex             151112 non-null  object        \n",
      " 8   age             151112 non-null  int64         \n",
      " 9   is_fraud        151112 non-null  int64         \n",
      "dtypes: datetime64[ns](2), int64(4), object(4)\n",
      "memory usage: 11.5+ MB\n"
     ]
    }
   ],
   "source": [
    "fraudDataSet.info() #Checking the types of values / Number of records."
   ]
  },
  {
   "cell_type": "markdown",
   "metadata": {},
   "source": [
    "## 1.1"
   ]
  },
  {
   "cell_type": "code",
   "execution_count": 6,
   "metadata": {},
   "outputs": [
    {
     "data": {
      "text/plain": [
       "18"
      ]
     },
     "execution_count": 6,
     "metadata": {},
     "output_type": "execute_result"
    }
   ],
   "source": [
    "fraudDataSet['age'].min() #Finding Minimum Age or creating Bucket for Analysis"
   ]
  },
  {
   "cell_type": "code",
   "execution_count": 7,
   "metadata": {},
   "outputs": [
    {
     "data": {
      "text/plain": [
       "76"
      ]
     },
     "execution_count": 7,
     "metadata": {},
     "output_type": "execute_result"
    }
   ],
   "source": [
    "fraudDataSet['age'].max() #Finding Maximum Age for creating Bucket for Analysis"
   ]
  },
  {
   "cell_type": "code",
   "execution_count": 8,
   "metadata": {},
   "outputs": [],
   "source": [
    "#Creating Age Bins to analyse AGE column Independently.\n",
    "\n",
    "Bins = [18, 29, 39, 49, 59, 69, 120]\n",
    "Labels = ['18-29', '30-39', '40-49', '50-59', '60-69', '70+']\n",
    "fraudDataSet['AgeRange'] = pd.cut(fraudDataSet.age, Bins, labels = Labels,include_lowest = True)\n"
   ]
  },
  {
   "cell_type": "code",
   "execution_count": 9,
   "metadata": {},
   "outputs": [
    {
     "name": "stdout",
     "output_type": "stream",
     "text": [
      "\u001b[01mTotal Number Of People doing Transaction Between Age :\u001b[0m\n",
      "30-39    60815\n",
      "18-29    55598\n",
      "40-49    28766\n",
      "50-59     5524\n",
      "60-69      400\n",
      "70+          9\n",
      "Name: AgeRange, dtype: int64\n",
      "\n",
      "\n",
      "\u001b[01mPercentage of Transactions with respect to Age Range is\u001b[0m\n",
      "30-39    40.245\n",
      "18-29    36.793\n",
      "40-49    19.036\n",
      "50-59     3.656\n",
      "60-69     0.265\n",
      "70+       0.006\n",
      "Name: AgeRange, dtype: float64\n"
     ]
    }
   ],
   "source": [
    "print('\\033[01m'\"Total Number Of People doing Transaction Between Age :\"'\\033[0m')\n",
    "print(fraudDataSet['AgeRange'].value_counts())\n",
    "print(\"\\n\")\n",
    "print('\\033[01m'\"Percentage of Transactions with respect to Age Range is\"'\\033[0m')\n",
    "print(round(((fraudDataSet['AgeRange'].value_counts(normalize=True))*100),3))"
   ]
  },
  {
   "cell_type": "code",
   "execution_count": 10,
   "metadata": {},
   "outputs": [
    {
     "data": {
      "text/plain": [
       "Text(0, 0.5, 'Age Ranges')"
      ]
     },
     "execution_count": 10,
     "metadata": {},
     "output_type": "execute_result"
    },
    {
     "data": {
      "image/png": "[encoded data removed]",
      "text/plain": [
       "<Figure size 432x288 with 1 Axes>"
      ]
     },
     "metadata": {
      "needs_background": "light"
     },
     "output_type": "display_data"
    }
   ],
   "source": [
    "fraudDataSet['AgeRange'].value_counts(normalize=True).plot(kind='barh', color=plt.cm.Paired(np.arange(len(fraudDataSet))))\n",
    "plt.xlabel('% of Transactions', fontweight='bold', color = 'Black', fontsize='16', horizontalalignment='center')\n",
    "plt.ylabel('Age Ranges', fontweight='bold', color = 'Red', fontsize='16', horizontalalignment='center')"
   ]
  },
  {
   "cell_type": "markdown",
   "metadata": {},
   "source": [
    "#### We can clearly see that people between Ages 30-39 does maximum number of transactions. After this Age group 18-29 does maximum number of Transactions."
   ]
  },
  {
   "cell_type": "markdown",
   "metadata": {},
   "source": [
    "## 1.2\n"
   ]
  },
  {
   "cell_type": "code",
   "execution_count": 11,
   "metadata": {},
   "outputs": [
    {
     "name": "stdout",
     "output_type": "stream",
     "text": [
      "\u001b[01mTotal Number of Transaction with respect to SEX :\u001b[0m\n",
      "Male      88293\n",
      "Female    62819\n",
      "Name: sex, dtype: int64\n",
      "\n",
      "\n",
      "\u001b[01mPercentage of Transactions with respect to SEX is\u001b[0m\n",
      "Male      58.429\n",
      "Female    41.571\n",
      "Name: sex, dtype: float64\n"
     ]
    }
   ],
   "source": [
    "fraudDataSet['sex'].replace('M','Male',inplace = True)\n",
    "fraudDataSet['sex'].replace('F','Female',inplace = True)\n",
    "print('\\033[01m'\"Total Number of Transaction with respect to SEX :\"'\\033[0m')\n",
    "print(fraudDataSet['sex'].value_counts())\n",
    "print(\"\\n\")\n",
    "print('\\033[01m'\"Percentage of Transactions with respect to SEX is\"'\\033[0m')\n",
    "print(round(((fraudDataSet['sex'].value_counts(normalize=True))*100),3))\n"
   ]
  },
  {
   "cell_type": "code",
   "execution_count": 12,
   "metadata": {},
   "outputs": [
    {
     "data": {
      "image/png": "[encoded data removed]",
      "text/plain": [
       "<Figure size 432x288 with 1 Axes>"
      ]
     },
     "metadata": {},
     "output_type": "display_data"
    }
   ],
   "source": [
    "colors = ['Blue', 'Pink']\n",
    "labels = ['Male','Female']\n",
    "plt.pie(fraudDataSet.sex.value_counts(normalize=True), labels = labels, colors=colors, startangle=360, autopct='%.1f%%')\n",
    "plt.show()"
   ]
  },
  {
   "cell_type": "markdown",
   "metadata": {},
   "source": [
    "## 1.3"
   ]
  },
  {
   "cell_type": "code",
   "execution_count": 13,
   "metadata": {},
   "outputs": [
    {
     "data": {
      "text/plain": [
       "9"
      ]
     },
     "execution_count": 13,
     "metadata": {},
     "output_type": "execute_result"
    }
   ],
   "source": [
    "fraudDataSet['purchase_value'].min() #Finding Minimum Purchase Value for creating Bucket for Analysis"
   ]
  },
  {
   "cell_type": "code",
   "execution_count": 14,
   "metadata": {},
   "outputs": [
    {
     "data": {
      "text/plain": [
       "154"
      ]
     },
     "execution_count": 14,
     "metadata": {},
     "output_type": "execute_result"
    }
   ],
   "source": [
    "fraudDataSet['purchase_value'].max() #Finding Maximum Purchase value for creating Bucket for Analysis"
   ]
  },
  {
   "cell_type": "code",
   "execution_count": 15,
   "metadata": {},
   "outputs": [
    {
     "data": {
      "text/html": [
       "<div>\n",
       "<style scoped>\n",
       "    .dataframe tbody tr th:only-of-type {\n",
       "        vertical-align: middle;\n",
       "    }\n",
       "\n",
       "    .dataframe tbody tr th {\n",
       "        vertical-align: top;\n",
       "    }\n",
       "\n",
       "    .dataframe thead th {\n",
       "        text-align: right;\n",
       "    }\n",
       "</style>\n",
       "<table border=\"1\" class=\"dataframe\">\n",
       "  <thead>\n",
       "    <tr style=\"text-align: right;\">\n",
       "      <th></th>\n",
       "      <th>user_id</th>\n",
       "      <th>signup_date</th>\n",
       "      <th>purchase date</th>\n",
       "      <th>purchase_time</th>\n",
       "      <th>purchase_value</th>\n",
       "      <th>source</th>\n",
       "      <th>browser</th>\n",
       "      <th>sex</th>\n",
       "      <th>age</th>\n",
       "      <th>is_fraud</th>\n",
       "      <th>AgeRange</th>\n",
       "      <th>PurchaseRange</th>\n",
       "    </tr>\n",
       "  </thead>\n",
       "  <tbody>\n",
       "    <tr>\n",
       "      <th>0</th>\n",
       "      <td>22058</td>\n",
       "      <td>2015-02-24 22:55:49</td>\n",
       "      <td>2015-04-18</td>\n",
       "      <td>02:47:11</td>\n",
       "      <td>34</td>\n",
       "      <td>SEO</td>\n",
       "      <td>Chrome</td>\n",
       "      <td>Male</td>\n",
       "      <td>39</td>\n",
       "      <td>0</td>\n",
       "      <td>30-39</td>\n",
       "      <td>21-40</td>\n",
       "    </tr>\n",
       "    <tr>\n",
       "      <th>1</th>\n",
       "      <td>333320</td>\n",
       "      <td>2015-06-07 20:39:50</td>\n",
       "      <td>2015-06-08</td>\n",
       "      <td>01:38:54</td>\n",
       "      <td>16</td>\n",
       "      <td>Ads</td>\n",
       "      <td>Chrome</td>\n",
       "      <td>Female</td>\n",
       "      <td>53</td>\n",
       "      <td>0</td>\n",
       "      <td>50-59</td>\n",
       "      <td>0-20</td>\n",
       "    </tr>\n",
       "    <tr>\n",
       "      <th>2</th>\n",
       "      <td>1359</td>\n",
       "      <td>2015-01-01 18:52:44</td>\n",
       "      <td>2015-01-01</td>\n",
       "      <td>18:52:45</td>\n",
       "      <td>15</td>\n",
       "      <td>SEO</td>\n",
       "      <td>Opera</td>\n",
       "      <td>Male</td>\n",
       "      <td>53</td>\n",
       "      <td>1</td>\n",
       "      <td>50-59</td>\n",
       "      <td>0-20</td>\n",
       "    </tr>\n",
       "    <tr>\n",
       "      <th>3</th>\n",
       "      <td>150084</td>\n",
       "      <td>2015-04-28 21:13:25</td>\n",
       "      <td>2015-05-04</td>\n",
       "      <td>13:54:50</td>\n",
       "      <td>44</td>\n",
       "      <td>SEO</td>\n",
       "      <td>Safari</td>\n",
       "      <td>Male</td>\n",
       "      <td>41</td>\n",
       "      <td>0</td>\n",
       "      <td>40-49</td>\n",
       "      <td>41-60</td>\n",
       "    </tr>\n",
       "    <tr>\n",
       "      <th>4</th>\n",
       "      <td>221365</td>\n",
       "      <td>2015-07-21 07:09:52</td>\n",
       "      <td>2015-09-09</td>\n",
       "      <td>18:40:53</td>\n",
       "      <td>39</td>\n",
       "      <td>Ads</td>\n",
       "      <td>Safari</td>\n",
       "      <td>Male</td>\n",
       "      <td>45</td>\n",
       "      <td>0</td>\n",
       "      <td>40-49</td>\n",
       "      <td>21-40</td>\n",
       "    </tr>\n",
       "    <tr>\n",
       "      <th>...</th>\n",
       "      <td>...</td>\n",
       "      <td>...</td>\n",
       "      <td>...</td>\n",
       "      <td>...</td>\n",
       "      <td>...</td>\n",
       "      <td>...</td>\n",
       "      <td>...</td>\n",
       "      <td>...</td>\n",
       "      <td>...</td>\n",
       "      <td>...</td>\n",
       "      <td>...</td>\n",
       "      <td>...</td>\n",
       "    </tr>\n",
       "    <tr>\n",
       "      <th>151107</th>\n",
       "      <td>345170</td>\n",
       "      <td>2015-01-27 03:03:34</td>\n",
       "      <td>2015-03-29</td>\n",
       "      <td>00:30:47</td>\n",
       "      <td>43</td>\n",
       "      <td>SEO</td>\n",
       "      <td>Chrome</td>\n",
       "      <td>Male</td>\n",
       "      <td>28</td>\n",
       "      <td>1</td>\n",
       "      <td>18-29</td>\n",
       "      <td>41-60</td>\n",
       "    </tr>\n",
       "    <tr>\n",
       "      <th>151108</th>\n",
       "      <td>274471</td>\n",
       "      <td>2015-05-15 17:43:29</td>\n",
       "      <td>2015-05-26</td>\n",
       "      <td>12:24:39</td>\n",
       "      <td>35</td>\n",
       "      <td>SEO</td>\n",
       "      <td>Safari</td>\n",
       "      <td>Male</td>\n",
       "      <td>32</td>\n",
       "      <td>0</td>\n",
       "      <td>30-39</td>\n",
       "      <td>21-40</td>\n",
       "    </tr>\n",
       "    <tr>\n",
       "      <th>151109</th>\n",
       "      <td>368416</td>\n",
       "      <td>2015-03-03 23:07:31</td>\n",
       "      <td>2015-05-20</td>\n",
       "      <td>07:07:47</td>\n",
       "      <td>40</td>\n",
       "      <td>SEO</td>\n",
       "      <td>IE</td>\n",
       "      <td>Female</td>\n",
       "      <td>26</td>\n",
       "      <td>0</td>\n",
       "      <td>18-29</td>\n",
       "      <td>21-40</td>\n",
       "    </tr>\n",
       "    <tr>\n",
       "      <th>151110</th>\n",
       "      <td>207709</td>\n",
       "      <td>2015-07-09 20:06:07</td>\n",
       "      <td>2015-09-07</td>\n",
       "      <td>09:34:46</td>\n",
       "      <td>46</td>\n",
       "      <td>SEO</td>\n",
       "      <td>Chrome</td>\n",
       "      <td>Male</td>\n",
       "      <td>37</td>\n",
       "      <td>0</td>\n",
       "      <td>30-39</td>\n",
       "      <td>41-60</td>\n",
       "    </tr>\n",
       "    <tr>\n",
       "      <th>151111</th>\n",
       "      <td>138208</td>\n",
       "      <td>2015-06-10 07:02:20</td>\n",
       "      <td>2015-07-21</td>\n",
       "      <td>02:03:53</td>\n",
       "      <td>20</td>\n",
       "      <td>Direct</td>\n",
       "      <td>IE</td>\n",
       "      <td>Male</td>\n",
       "      <td>38</td>\n",
       "      <td>0</td>\n",
       "      <td>30-39</td>\n",
       "      <td>0-20</td>\n",
       "    </tr>\n",
       "  </tbody>\n",
       "</table>\n",
       "<p>151112 rows × 12 columns</p>\n",
       "</div>"
      ],
      "text/plain": [
       "        user_id         signup_date purchase date purchase_time  \\\n",
       "0         22058 2015-02-24 22:55:49    2015-04-18      02:47:11   \n",
       "1        333320 2015-06-07 20:39:50    2015-06-08      01:38:54   \n",
       "2          1359 2015-01-01 18:52:44    2015-01-01      18:52:45   \n",
       "3        150084 2015-04-28 21:13:25    2015-05-04      13:54:50   \n",
       "4        221365 2015-07-21 07:09:52    2015-09-09      18:40:53   \n",
       "...         ...                 ...           ...           ...   \n",
       "151107   345170 2015-01-27 03:03:34    2015-03-29      00:30:47   \n",
       "151108   274471 2015-05-15 17:43:29    2015-05-26      12:24:39   \n",
       "151109   368416 2015-03-03 23:07:31    2015-05-20      07:07:47   \n",
       "151110   207709 2015-07-09 20:06:07    2015-09-07      09:34:46   \n",
       "151111   138208 2015-06-10 07:02:20    2015-07-21      02:03:53   \n",
       "\n",
       "        purchase_value  source browser     sex  age  is_fraud AgeRange  \\\n",
       "0                   34     SEO  Chrome    Male   39         0    30-39   \n",
       "1                   16     Ads  Chrome  Female   53         0    50-59   \n",
       "2                   15     SEO   Opera    Male   53         1    50-59   \n",
       "3                   44     SEO  Safari    Male   41         0    40-49   \n",
       "4                   39     Ads  Safari    Male   45         0    40-49   \n",
       "...                ...     ...     ...     ...  ...       ...      ...   \n",
       "151107              43     SEO  Chrome    Male   28         1    18-29   \n",
       "151108              35     SEO  Safari    Male   32         0    30-39   \n",
       "151109              40     SEO      IE  Female   26         0    18-29   \n",
       "151110              46     SEO  Chrome    Male   37         0    30-39   \n",
       "151111              20  Direct      IE    Male   38         0    30-39   \n",
       "\n",
       "       PurchaseRange  \n",
       "0              21-40  \n",
       "1               0-20  \n",
       "2               0-20  \n",
       "3              41-60  \n",
       "4              21-40  \n",
       "...              ...  \n",
       "151107         41-60  \n",
       "151108         21-40  \n",
       "151109         21-40  \n",
       "151110         41-60  \n",
       "151111          0-20  \n",
       "\n",
       "[151112 rows x 12 columns]"
      ]
     },
     "execution_count": 15,
     "metadata": {},
     "output_type": "execute_result"
    }
   ],
   "source": [
    "#Creating Purchase_Value_Range Bins to analyse Purchase_Value column Independently.\n",
    "\n",
    "Bins = [0,20, 40, 60, 80, 100, 120, 140, 160]\n",
    "Labels =  ['0-20', '21-40', '41-60', '61-80', '81-100', '101-120', '121-140', '141+']\n",
    "fraudDataSet['PurchaseRange'] = pd.cut(fraudDataSet.purchase_value, Bins, labels = Labels,include_lowest = True)\n",
    "\n",
    "fraudDataSet\n"
   ]
  },
  {
   "cell_type": "code",
   "execution_count": 16,
   "metadata": {},
   "outputs": [
    {
     "name": "stdout",
     "output_type": "stream",
     "text": [
      "\u001b[01mTotal Number of Transaction For Purchase Range :\u001b[0m\n",
      "21-40      60766\n",
      "41-60      41043\n",
      "0-20       32014\n",
      "61-80      14393\n",
      "81-100      2617\n",
      "101-120      263\n",
      "121-140       15\n",
      "141+           1\n",
      "Name: PurchaseRange, dtype: int64\n",
      "\n",
      "\n",
      "\u001b[01mPercentage of Transactions with respect to Purchase Range is\u001b[0m\n",
      "21-40      40.213\n",
      "41-60      27.161\n",
      "0-20       21.186\n",
      "61-80       9.525\n",
      "81-100      1.732\n",
      "101-120     0.174\n",
      "121-140     0.010\n",
      "141+        0.001\n",
      "Name: PurchaseRange, dtype: float64\n"
     ]
    }
   ],
   "source": [
    "print('\\033[01m'\"Total Number of Transaction For Purchase Range :\"'\\033[0m')\n",
    "print(fraudDataSet['PurchaseRange'].value_counts())\n",
    "print(\"\\n\")\n",
    "print('\\033[01m'\"Percentage of Transactions with respect to Purchase Range is\"'\\033[0m')\n",
    "print(round(((fraudDataSet['PurchaseRange'].value_counts(normalize=True))*100),3))\n"
   ]
  },
  {
   "cell_type": "code",
   "execution_count": 17,
   "metadata": {
    "scrolled": true
   },
   "outputs": [
    {
     "data": {
      "image/png": "[encoded data removed]",
      "text/plain": [
       "<Figure size 432x288 with 1 Axes>"
      ]
     },
     "metadata": {
      "needs_background": "light"
     },
     "output_type": "display_data"
    }
   ],
   "source": [
    "value = fraudDataSet['purchase_value']\n",
    "\n",
    "plt.hist(value, bins=10,)\n",
    "plt.xlabel(\"Purchase Value\") \n",
    "plt.ylabel(\"Number of Transactions\") \n",
    "plt.show()\n"
   ]
  },
  {
   "cell_type": "markdown",
   "metadata": {},
   "source": [
    "## 1.4"
   ]
  },
  {
   "cell_type": "code",
   "execution_count": 18,
   "metadata": {},
   "outputs": [
    {
     "name": "stdout",
     "output_type": "stream",
     "text": [
      "\u001b[01mTotal Number of Transaction With respect to BROWSER :\u001b[0m\n",
      "Chrome     61432\n",
      "IE         36727\n",
      "Safari     24667\n",
      "FireFox    24610\n",
      "Opera       3676\n",
      "Name: browser, dtype: int64\n",
      "\n",
      "\n",
      "\u001b[01mPercentage of Transactions with respect to BROWSER is\u001b[0m\n",
      "Chrome     40.7\n",
      "IE         24.3\n",
      "Safari     16.3\n",
      "FireFox    16.3\n",
      "Opera       2.4\n",
      "Name: browser, dtype: float64\n"
     ]
    }
   ],
   "source": [
    "print('\\033[01m'\"Total Number of Transaction With respect to BROWSER :\"'\\033[0m')\n",
    "print(fraudDataSet['browser'].value_counts())\n",
    "print(\"\\n\")\n",
    "print('\\033[01m'\"Percentage of Transactions with respect to BROWSER is\"'\\033[0m')\n",
    "print(round(((fraudDataSet['browser'].value_counts(normalize=True))*100),1))\n"
   ]
  },
  {
   "cell_type": "code",
   "execution_count": 19,
   "metadata": {},
   "outputs": [
    {
     "data": {
      "image/png": "[encoded data removed]",
      "text/plain": [
       "<Figure size 432x288 with 1 Axes>"
      ]
     },
     "metadata": {},
     "output_type": "display_data"
    }
   ],
   "source": [
    "labels = ['Chrome','IE','Safari','Firefox','Opera']\n",
    "colors = ['Red', 'Blue', 'Green' , 'Cyan' , 'Yellow']\n",
    "plt.pie(fraudDataSet.browser.value_counts(normalize=True), labels = labels, colors=colors, startangle=360, autopct='%.1f%%')\n",
    "plt.show()"
   ]
  },
  {
   "cell_type": "markdown",
   "metadata": {},
   "source": [
    "## 1.5"
   ]
  },
  {
   "cell_type": "code",
   "execution_count": 20,
   "metadata": {},
   "outputs": [
    {
     "name": "stdout",
     "output_type": "stream",
     "text": [
      "\u001b[01mTotal Number of Transaction With respect to SOURCE :\u001b[0m\n",
      "SEO       60615\n",
      "Ads       59881\n",
      "Direct    30616\n",
      "Name: source, dtype: int64\n",
      "\n",
      "\n",
      "\u001b[01mPercentage of Transactions with respect to SOURCE is\u001b[0m\n",
      "SEO       40.113\n",
      "Ads       39.627\n",
      "Direct    20.260\n",
      "Name: source, dtype: float64\n"
     ]
    }
   ],
   "source": [
    "print('\\033[01m'\"Total Number of Transaction With respect to SOURCE :\"'\\033[0m')\n",
    "print(fraudDataSet['source'].value_counts())\n",
    "print(\"\\n\")\n",
    "print('\\033[01m'\"Percentage of Transactions with respect to SOURCE is\"'\\033[0m')\n",
    "print(round(((fraudDataSet['source'].value_counts(normalize=True))*100),3))\n"
   ]
  },
  {
   "cell_type": "code",
   "execution_count": 21,
   "metadata": {},
   "outputs": [
    {
     "data": {
      "text/plain": [
       "Text(0, 0.5, 'Source')"
      ]
     },
     "execution_count": 21,
     "metadata": {},
     "output_type": "execute_result"
    },
    {
     "data": {
      "image/png": "[encoded data removed]",
      "text/plain": [
       "<Figure size 432x288 with 1 Axes>"
      ]
     },
     "metadata": {
      "needs_background": "light"
     },
     "output_type": "display_data"
    }
   ],
   "source": [
    "## Plotting the Source against the total number of  transactions\n",
    "\n",
    "fraudDataSet['source'].value_counts(normalize=True).plot(kind='barh', color=plt.cm.Paired(np.arange(len(fraudDataSet))))\n",
    "plt.xlabel('Number of Transactions', fontweight='bold', color = 'Black', fontsize='16', horizontalalignment='center')\n",
    "plt.ylabel('Source', fontweight='bold', color = 'Red', fontsize='16', horizontalalignment='center')"
   ]
  },
  {
   "cell_type": "markdown",
   "metadata": {},
   "source": [
    "#### 2A - Hypothesis 1: Transactions that occur within the same date as sign-up have a higher probability of being fraudulent in nature. "
   ]
  },
  {
   "cell_type": "code",
   "execution_count": 22,
   "metadata": {
    "scrolled": false
   },
   "outputs": [],
   "source": [
    "q2Hypotheis1CopyData = fraudDataSetOrignal.copy()"
   ]
  },
  {
   "cell_type": "code",
   "execution_count": 23,
   "metadata": {},
   "outputs": [],
   "source": [
    "q2Hypotheis1CopyData['signup_onlydate'] = pd.to_datetime(q2Hypotheis1CopyData['signup_date'].dt.date)"
   ]
  },
  {
   "cell_type": "code",
   "execution_count": 24,
   "metadata": {},
   "outputs": [],
   "source": [
    "q2Hypotheis1CopyData['signup_Equals_PurchaseDate']=np.where(q2Hypotheis1CopyData['signup_onlydate'] == q2Hypotheis1CopyData['purchase date'],\"Yes\",\"No\")"
   ]
  },
  {
   "cell_type": "code",
   "execution_count": 25,
   "metadata": {},
   "outputs": [
    {
     "data": {
      "text/plain": [
       "No     142908\n",
       "Yes      8204\n",
       "Name: signup_Equals_PurchaseDate, dtype: int64"
      ]
     },
     "execution_count": 25,
     "metadata": {},
     "output_type": "execute_result"
    }
   ],
   "source": [
    "q2Hypotheis1CopyData['signup_Equals_PurchaseDate'].value_counts()"
   ]
  },
  {
   "cell_type": "code",
   "execution_count": 26,
   "metadata": {},
   "outputs": [
    {
     "data": {
      "text/plain": [
       "No     95.0\n",
       "Yes     5.0\n",
       "Name: signup_Equals_PurchaseDate, dtype: float64"
      ]
     },
     "execution_count": 26,
     "metadata": {},
     "output_type": "execute_result"
    }
   ],
   "source": [
    "round((q2Hypotheis1CopyData['signup_Equals_PurchaseDate'].value_counts(normalize=True))*100)"
   ]
  },
  {
   "cell_type": "code",
   "execution_count": 27,
   "metadata": {},
   "outputs": [
    {
     "data": {
      "image/png": "[encoded data removed]",
      "text/plain": [
       "<Figure size 432x288 with 1 Axes>"
      ]
     },
     "metadata": {},
     "output_type": "display_data"
    }
   ],
   "source": [
    "labels = ['SignUpDate = Purchase Date','SignUpDate is not equal to Purchase Date']\n",
    "colors = ['Red', 'Blue', ]\n",
    "plt.pie(q2Hypotheis1CopyData.signup_Equals_PurchaseDate.value_counts(normalize=True), labels = labels, colors=colors, startangle=360, autopct='%.1f%%')\n",
    "plt.show()"
   ]
  },
  {
   "cell_type": "code",
   "execution_count": 28,
   "metadata": {},
   "outputs": [],
   "source": [
    "allFraud = q2Hypotheis1CopyData.loc[q2Hypotheis1CopyData.is_fraud == 1]"
   ]
  },
  {
   "cell_type": "code",
   "execution_count": 29,
   "metadata": {},
   "outputs": [
    {
     "data": {
      "text/plain": [
       "Yes    7630\n",
       "No     6521\n",
       "Name: signup_Equals_PurchaseDate, dtype: int64"
      ]
     },
     "execution_count": 29,
     "metadata": {},
     "output_type": "execute_result"
    }
   ],
   "source": [
    "allFraud['signup_Equals_PurchaseDate'].value_counts()"
   ]
  },
  {
   "cell_type": "code",
   "execution_count": 30,
   "metadata": {},
   "outputs": [
    {
     "data": {
      "text/plain": [
       "Yes    54.0\n",
       "No     46.0\n",
       "Name: signup_Equals_PurchaseDate, dtype: float64"
      ]
     },
     "execution_count": 30,
     "metadata": {},
     "output_type": "execute_result"
    }
   ],
   "source": [
    "round((allFraud['signup_Equals_PurchaseDate'].value_counts(normalize=True))*100)"
   ]
  },
  {
   "cell_type": "code",
   "execution_count": 31,
   "metadata": {},
   "outputs": [
    {
     "data": {
      "image/png": "[encoded data removed]",
      "text/plain": [
       "<Figure size 432x288 with 1 Axes>"
      ]
     },
     "metadata": {},
     "output_type": "display_data"
    }
   ],
   "source": [
    "labels = ['SignUpDate = Purchase Date','SignUpDate is not equal to Purchase Date']\n",
    "colors = ['Red', 'Blue', ]\n",
    "plt.pie(allFraud.signup_Equals_PurchaseDate.value_counts(normalize=True), labels = labels, colors=colors, startangle=360, autopct='%.1f%%')\n",
    "plt.show()"
   ]
  },
  {
   "cell_type": "code",
   "execution_count": 32,
   "metadata": {},
   "outputs": [],
   "source": [
    "# We can see that there are 14151 records which are marked as Fraud in the dataset,\n",
    "# Also 7630 Fraudalent transactions happened where the SignUp Date was same as Purchase Date\n",
    "# We can clearly see that 54% fraudalent transction happened when the SignUpDate was same as Purchase Date therefore the Hypothesis \" Transactions that occur within the same date as sign-up have a higher probability of being fraudulent in nature.\" is TRUE"
   ]
  },
  {
   "cell_type": "markdown",
   "metadata": {},
   "source": [
    "#### 2B - Hypothesis 2: Transactions that occur after midnight and before 3 am have a higher likelihood of being fraudulent in nature. "
   ]
  },
  {
   "cell_type": "code",
   "execution_count": 33,
   "metadata": {},
   "outputs": [],
   "source": [
    "q2Hypotheis2CopyData = fraudDataSetOrignal.copy()"
   ]
  },
  {
   "cell_type": "code",
   "execution_count": 34,
   "metadata": {},
   "outputs": [],
   "source": [
    "from datetime import time\n",
    "starttime = datetime.time(0,0,0)\n",
    "endtime = datetime.time(3,0,0)"
   ]
  },
  {
   "cell_type": "code",
   "execution_count": 35,
   "metadata": {},
   "outputs": [],
   "source": [
    "q2Hypotheis2CopyData['PurchaseBetweenMidnightto3AM'] = np.where(((q2Hypotheis2CopyData['purchase_time'] > starttime) & (q2Hypotheis2CopyData['purchase_time'] < endtime)), \"Yes\", \"No\")"
   ]
  },
  {
   "cell_type": "code",
   "execution_count": 36,
   "metadata": {},
   "outputs": [
    {
     "data": {
      "text/plain": [
       "No     132361\n",
       "Yes     18751\n",
       "Name: PurchaseBetweenMidnightto3AM, dtype: int64"
      ]
     },
     "execution_count": 36,
     "metadata": {},
     "output_type": "execute_result"
    }
   ],
   "source": [
    "q2Hypotheis2CopyData['PurchaseBetweenMidnightto3AM'].value_counts()"
   ]
  },
  {
   "cell_type": "code",
   "execution_count": 37,
   "metadata": {},
   "outputs": [
    {
     "data": {
      "text/plain": [
       "No     88.0\n",
       "Yes    12.0\n",
       "Name: PurchaseBetweenMidnightto3AM, dtype: float64"
      ]
     },
     "execution_count": 37,
     "metadata": {},
     "output_type": "execute_result"
    }
   ],
   "source": [
    "round((q2Hypotheis2CopyData['PurchaseBetweenMidnightto3AM'].value_counts(normalize=True))*100)\n"
   ]
  },
  {
   "cell_type": "code",
   "execution_count": 38,
   "metadata": {},
   "outputs": [],
   "source": [
    "allFraudQ2 = q2Hypotheis2CopyData.loc[q2Hypotheis2CopyData.is_fraud == 1]"
   ]
  },
  {
   "cell_type": "code",
   "execution_count": 39,
   "metadata": {},
   "outputs": [
    {
     "data": {
      "text/plain": [
       "No     12455\n",
       "Yes     1696\n",
       "Name: PurchaseBetweenMidnightto3AM, dtype: int64"
      ]
     },
     "execution_count": 39,
     "metadata": {},
     "output_type": "execute_result"
    }
   ],
   "source": [
    "allFraudQ2['PurchaseBetweenMidnightto3AM'].value_counts()"
   ]
  },
  {
   "cell_type": "code",
   "execution_count": 40,
   "metadata": {},
   "outputs": [
    {
     "data": {
      "text/plain": [
       "No     88.014981\n",
       "Yes    11.985019\n",
       "Name: PurchaseBetweenMidnightto3AM, dtype: float64"
      ]
     },
     "execution_count": 40,
     "metadata": {},
     "output_type": "execute_result"
    }
   ],
   "source": [
    "(allFraudQ2['PurchaseBetweenMidnightto3AM'].value_counts(normalize=True))*100\n"
   ]
  },
  {
   "cell_type": "code",
   "execution_count": 41,
   "metadata": {},
   "outputs": [
    {
     "data": {
      "image/png": "[encoded data removed]",
      "text/plain": [
       "<Figure size 432x288 with 1 Axes>"
      ]
     },
     "metadata": {},
     "output_type": "display_data"
    }
   ],
   "source": [
    "labels = ['Purchase Not Between 12AM to 3AM','Purchase Between 12AM to 3AM']\n",
    "colors = ['Red', 'Blue' ]\n",
    "plt.pie(allFraudQ2.PurchaseBetweenMidnightto3AM.value_counts(normalize=True), labels = labels, colors=colors, startangle=360, autopct='%.1f%%')\n",
    "plt.show()"
   ]
  },
  {
   "cell_type": "code",
   "execution_count": 42,
   "metadata": {},
   "outputs": [],
   "source": [
    "# We can see that there are 14151 records which are marked as Fraud in the dataset,\n",
    "# Also only 1696 Fraudalent transactions happened between 12:00:00 AM (Midnight) and 3:00:00AM.\n",
    "# We can clearly see that only 12% fraudalent transction happened between 12:00:00 AM (Midnight) and 3:00:00AM therefore the Hypothesis \"Transactions that occur after midnight and before 3 am have a higher likelihood of being fraudulent in nature\" is FALSE"
   ]
  },
  {
   "cell_type": "markdown",
   "metadata": {},
   "source": [
    "#### 3A: Create a correlation matrix for all the numerical variables and analyse the results. Also, check for multicollinearity"
   ]
  },
  {
   "cell_type": "code",
   "execution_count": 43,
   "metadata": {},
   "outputs": [],
   "source": [
    "fraudDatasetQ3 = fraudDataSetOrignal.copy()"
   ]
  },
  {
   "cell_type": "code",
   "execution_count": 44,
   "metadata": {},
   "outputs": [],
   "source": [
    "fraudDatasetQ3.drop(['user_id'], axis=1, inplace = True)"
   ]
  },
  {
   "cell_type": "code",
   "execution_count": 45,
   "metadata": {},
   "outputs": [
    {
     "data": {
      "text/html": [
       "<div>\n",
       "<style scoped>\n",
       "    .dataframe tbody tr th:only-of-type {\n",
       "        vertical-align: middle;\n",
       "    }\n",
       "\n",
       "    .dataframe tbody tr th {\n",
       "        vertical-align: top;\n",
       "    }\n",
       "\n",
       "    .dataframe thead th {\n",
       "        text-align: right;\n",
       "    }\n",
       "</style>\n",
       "<table border=\"1\" class=\"dataframe\">\n",
       "  <thead>\n",
       "    <tr style=\"text-align: right;\">\n",
       "      <th></th>\n",
       "      <th>purchase_value</th>\n",
       "      <th>age</th>\n",
       "      <th>is_fraud</th>\n",
       "    </tr>\n",
       "  </thead>\n",
       "  <tbody>\n",
       "    <tr>\n",
       "      <th>purchase_value</th>\n",
       "      <td>1.000000</td>\n",
       "      <td>0.002370</td>\n",
       "      <td>0.001011</td>\n",
       "    </tr>\n",
       "    <tr>\n",
       "      <th>age</th>\n",
       "      <td>0.002370</td>\n",
       "      <td>1.000000</td>\n",
       "      <td>0.006624</td>\n",
       "    </tr>\n",
       "    <tr>\n",
       "      <th>is_fraud</th>\n",
       "      <td>0.001011</td>\n",
       "      <td>0.006624</td>\n",
       "      <td>1.000000</td>\n",
       "    </tr>\n",
       "  </tbody>\n",
       "</table>\n",
       "</div>"
      ],
      "text/plain": [
       "                purchase_value       age  is_fraud\n",
       "purchase_value        1.000000  0.002370  0.001011\n",
       "age                   0.002370  1.000000  0.006624\n",
       "is_fraud              0.001011  0.006624  1.000000"
      ]
     },
     "execution_count": 45,
     "metadata": {},
     "output_type": "execute_result"
    }
   ],
   "source": [
    "fraudDatasetQ3.corr()"
   ]
  },
  {
   "cell_type": "code",
   "execution_count": 46,
   "metadata": {},
   "outputs": [
    {
     "data": {
      "text/plain": [
       "<matplotlib.axes._subplots.AxesSubplot at 0xe71611c688>"
      ]
     },
     "execution_count": 46,
     "metadata": {},
     "output_type": "execute_result"
    },
    {
     "data": {
      "image/png": "[encoded data removed]",
      "text/plain": [
       "<Figure size 360x360 with 2 Axes>"
      ]
     },
     "metadata": {
      "needs_background": "light"
     },
     "output_type": "display_data"
    }
   ],
   "source": [
    "correlations =fraudDatasetQ3.corr()\n",
    "f, ax = plt.subplots(figsize = (5, 5))\n",
    "sns.heatmap(correlations, annot = True)"
   ]
  },
  {
   "cell_type": "markdown",
   "metadata": {},
   "source": [
    "#### Checking for multcollinearity"
   ]
  },
  {
   "cell_type": "code",
   "execution_count": 47,
   "metadata": {},
   "outputs": [],
   "source": [
    "numericalDataset = pd.DataFrame()\n",
    "numericalDataset['age'] = fraudDatasetQ3['age']\n",
    "numericalDataset['purchase_value'] = fraudDatasetQ3['purchase_value']\n",
    "numericalDataset['is_fraud'] = fraudDatasetQ3['is_fraud']"
   ]
  },
  {
   "cell_type": "code",
   "execution_count": 48,
   "metadata": {},
   "outputs": [],
   "source": [
    "from statsmodels.stats.outliers_influence import variance_inflation_factor\n",
    "\n",
    "def calc_vif(X):\n",
    "\n",
    "    # Calculating VIF\n",
    "    vif = pd.DataFrame()\n",
    "    vif[\"variables\"] = X.columns\n",
    "    vif[\"VIF\"] = [variance_inflation_factor(X.values, i) for i in range(X.shape[1])]\n",
    "\n",
    "    return(vif)"
   ]
  },
  {
   "cell_type": "code",
   "execution_count": 49,
   "metadata": {},
   "outputs": [
    {
     "data": {
      "text/html": [
       "<div>\n",
       "<style scoped>\n",
       "    .dataframe tbody tr th:only-of-type {\n",
       "        vertical-align: middle;\n",
       "    }\n",
       "\n",
       "    .dataframe tbody tr th {\n",
       "        vertical-align: top;\n",
       "    }\n",
       "\n",
       "    .dataframe thead th {\n",
       "        text-align: right;\n",
       "    }\n",
       "</style>\n",
       "<table border=\"1\" class=\"dataframe\">\n",
       "  <thead>\n",
       "    <tr style=\"text-align: right;\">\n",
       "      <th></th>\n",
       "      <th>variables</th>\n",
       "      <th>VIF</th>\n",
       "    </tr>\n",
       "  </thead>\n",
       "  <tbody>\n",
       "    <tr>\n",
       "      <th>0</th>\n",
       "      <td>age</td>\n",
       "      <td>4.098174</td>\n",
       "    </tr>\n",
       "    <tr>\n",
       "      <th>1</th>\n",
       "      <td>purchase_value</td>\n",
       "      <td>4.039354</td>\n",
       "    </tr>\n",
       "    <tr>\n",
       "      <th>2</th>\n",
       "      <td>is_fraud</td>\n",
       "      <td>1.098580</td>\n",
       "    </tr>\n",
       "  </tbody>\n",
       "</table>\n",
       "</div>"
      ],
      "text/plain": [
       "        variables       VIF\n",
       "0             age  4.098174\n",
       "1  purchase_value  4.039354\n",
       "2        is_fraud  1.098580"
      ]
     },
     "execution_count": 49,
     "metadata": {},
     "output_type": "execute_result"
    }
   ],
   "source": [
    "calc_vif(numericalDataset)"
   ]
  },
  {
   "cell_type": "markdown",
   "metadata": {},
   "source": [
    "#### Q 3B) Do pairwise analysis of every categorical variable with the outcome variable and draw actionable insights. (5)"
   ]
  },
  {
   "cell_type": "code",
   "execution_count": 50,
   "metadata": {},
   "outputs": [],
   "source": [
    "fraudDatasetQ3B= fraudDataSetOrignal.copy()"
   ]
  },
  {
   "cell_type": "code",
   "execution_count": 51,
   "metadata": {
    "scrolled": true
   },
   "outputs": [
    {
     "data": {
      "text/plain": [
       "sex  source  is_fraud\n",
       "F    Ads     0           22615\n",
       "             1            2286\n",
       "     Direct  0           11547\n",
       "             1            1233\n",
       "     SEO     0           22940\n",
       "             1            2198\n",
       "M    Ads     0           31753\n",
       "             1            3227\n",
       "     Direct  0           15843\n",
       "             1            1993\n",
       "     SEO     0           32263\n",
       "             1            3214\n",
       "dtype: int64"
      ]
     },
     "execution_count": 51,
     "metadata": {},
     "output_type": "execute_result"
    }
   ],
   "source": [
    "fraudDatasetQ3B.groupby(['sex','source','is_fraud']).size()"
   ]
  },
  {
   "cell_type": "code",
   "execution_count": 52,
   "metadata": {},
   "outputs": [
    {
     "data": {
      "text/html": [
       "<div>\n",
       "<style scoped>\n",
       "    .dataframe tbody tr th:only-of-type {\n",
       "        vertical-align: middle;\n",
       "    }\n",
       "\n",
       "    .dataframe tbody tr th {\n",
       "        vertical-align: top;\n",
       "    }\n",
       "\n",
       "    .dataframe thead th {\n",
       "        text-align: right;\n",
       "    }\n",
       "</style>\n",
       "<table border=\"1\" class=\"dataframe\">\n",
       "  <thead>\n",
       "    <tr style=\"text-align: right;\">\n",
       "      <th>source</th>\n",
       "      <th>Ads</th>\n",
       "      <th>Direct</th>\n",
       "      <th>SEO</th>\n",
       "    </tr>\n",
       "    <tr>\n",
       "      <th>sex</th>\n",
       "      <th></th>\n",
       "      <th></th>\n",
       "      <th></th>\n",
       "    </tr>\n",
       "  </thead>\n",
       "  <tbody>\n",
       "    <tr>\n",
       "      <th>F</th>\n",
       "      <td>2286</td>\n",
       "      <td>1233</td>\n",
       "      <td>2198</td>\n",
       "    </tr>\n",
       "    <tr>\n",
       "      <th>M</th>\n",
       "      <td>3227</td>\n",
       "      <td>1993</td>\n",
       "      <td>3214</td>\n",
       "    </tr>\n",
       "  </tbody>\n",
       "</table>\n",
       "</div>"
      ],
      "text/plain": [
       "source   Ads  Direct   SEO\n",
       "sex                       \n",
       "F       2286    1233  2198\n",
       "M       3227    1993  3214"
      ]
     },
     "execution_count": 52,
     "metadata": {},
     "output_type": "execute_result"
    }
   ],
   "source": [
    "pd.pivot_table(data=fraudDatasetQ3B,\n",
    "               index=['sex'],\n",
    "               columns = 'source',\n",
    "               values='is_fraud', \n",
    "               aggfunc='sum')"
   ]
  },
  {
   "cell_type": "code",
   "execution_count": 69,
   "metadata": {},
   "outputs": [
    {
     "data": {
      "text/plain": [
       "browser  sex  is_fraud\n",
       "Chrome   F    0           23131\n",
       "              1            2427\n",
       "         M    0           32232\n",
       "              1            3642\n",
       "FireFox  F    0            9205\n",
       "              1            1015\n",
       "         M    0           13063\n",
       "              1            1327\n",
       "IE       F    0           14006\n",
       "              1            1269\n",
       "         M    0           19534\n",
       "              1            1918\n",
       "Opera    F    0            1357\n",
       "              1             109\n",
       "         M    0            1991\n",
       "              1             219\n",
       "Safari   F    0            9403\n",
       "              1             897\n",
       "         M    0           13039\n",
       "              1            1328\n",
       "dtype: int64"
      ]
     },
     "execution_count": 69,
     "metadata": {},
     "output_type": "execute_result"
    }
   ],
   "source": [
    "fraudDatasetQ3B.groupby(['browser','sex','is_fraud']).size()"
   ]
  },
  {
   "cell_type": "code",
   "execution_count": 70,
   "metadata": {},
   "outputs": [
    {
     "data": {
      "text/html": [
       "<div>\n",
       "<style scoped>\n",
       "    .dataframe tbody tr th:only-of-type {\n",
       "        vertical-align: middle;\n",
       "    }\n",
       "\n",
       "    .dataframe tbody tr th {\n",
       "        vertical-align: top;\n",
       "    }\n",
       "\n",
       "    .dataframe thead th {\n",
       "        text-align: right;\n",
       "    }\n",
       "</style>\n",
       "<table border=\"1\" class=\"dataframe\">\n",
       "  <thead>\n",
       "    <tr style=\"text-align: right;\">\n",
       "      <th>sex</th>\n",
       "      <th>F</th>\n",
       "      <th>M</th>\n",
       "    </tr>\n",
       "    <tr>\n",
       "      <th>browser</th>\n",
       "      <th></th>\n",
       "      <th></th>\n",
       "    </tr>\n",
       "  </thead>\n",
       "  <tbody>\n",
       "    <tr>\n",
       "      <th>Chrome</th>\n",
       "      <td>2427</td>\n",
       "      <td>3642</td>\n",
       "    </tr>\n",
       "    <tr>\n",
       "      <th>FireFox</th>\n",
       "      <td>1015</td>\n",
       "      <td>1327</td>\n",
       "    </tr>\n",
       "    <tr>\n",
       "      <th>IE</th>\n",
       "      <td>1269</td>\n",
       "      <td>1918</td>\n",
       "    </tr>\n",
       "    <tr>\n",
       "      <th>Opera</th>\n",
       "      <td>109</td>\n",
       "      <td>219</td>\n",
       "    </tr>\n",
       "    <tr>\n",
       "      <th>Safari</th>\n",
       "      <td>897</td>\n",
       "      <td>1328</td>\n",
       "    </tr>\n",
       "  </tbody>\n",
       "</table>\n",
       "</div>"
      ],
      "text/plain": [
       "sex         F     M\n",
       "browser            \n",
       "Chrome   2427  3642\n",
       "FireFox  1015  1327\n",
       "IE       1269  1918\n",
       "Opera     109   219\n",
       "Safari    897  1328"
      ]
     },
     "execution_count": 70,
     "metadata": {},
     "output_type": "execute_result"
    }
   ],
   "source": [
    "pd.pivot_table(data=fraudDatasetQ3B,\n",
    "               index=['browser'],\n",
    "               columns = 'sex',\n",
    "               values='is_fraud', \n",
    "               aggfunc='sum')"
   ]
  },
  {
   "cell_type": "code",
   "execution_count": 72,
   "metadata": {
    "scrolled": true
   },
   "outputs": [
    {
     "data": {
      "text/plain": [
       "browser  source  is_fraud\n",
       "Chrome   Ads     0           21898\n",
       "                 1            2411\n",
       "         Direct  0           11225\n",
       "                 1            1501\n",
       "         SEO     0           22240\n",
       "                 1            2157\n",
       "FireFox  Ads     0            8918\n",
       "                 1             914\n",
       "         Direct  0            4392\n",
       "                 1             437\n",
       "         SEO     0            8958\n",
       "                 1             991\n",
       "IE       Ads     0           13344\n",
       "                 1            1234\n",
       "         Direct  0            6695\n",
       "                 1             749\n",
       "         SEO     0           13501\n",
       "                 1            1204\n",
       "Opera    Ads     0            1313\n",
       "                 1             100\n",
       "         Direct  0             653\n",
       "                 1              82\n",
       "         SEO     0            1382\n",
       "                 1             146\n",
       "Safari   Ads     0            8895\n",
       "                 1             854\n",
       "         Direct  0            4425\n",
       "                 1             457\n",
       "         SEO     0            9122\n",
       "                 1             914\n",
       "dtype: int64"
      ]
     },
     "execution_count": 72,
     "metadata": {},
     "output_type": "execute_result"
    }
   ],
   "source": [
    "fraudDatasetQ3B.groupby(['browser','source','is_fraud']).size()"
   ]
  },
  {
   "cell_type": "code",
   "execution_count": 56,
   "metadata": {},
   "outputs": [
    {
     "data": {
      "text/html": [
       "<div>\n",
       "<style scoped>\n",
       "    .dataframe tbody tr th:only-of-type {\n",
       "        vertical-align: middle;\n",
       "    }\n",
       "\n",
       "    .dataframe tbody tr th {\n",
       "        vertical-align: top;\n",
       "    }\n",
       "\n",
       "    .dataframe thead th {\n",
       "        text-align: right;\n",
       "    }\n",
       "</style>\n",
       "<table border=\"1\" class=\"dataframe\">\n",
       "  <thead>\n",
       "    <tr style=\"text-align: right;\">\n",
       "      <th>source</th>\n",
       "      <th>Ads</th>\n",
       "      <th>Direct</th>\n",
       "      <th>SEO</th>\n",
       "    </tr>\n",
       "    <tr>\n",
       "      <th>browser</th>\n",
       "      <th></th>\n",
       "      <th></th>\n",
       "      <th></th>\n",
       "    </tr>\n",
       "  </thead>\n",
       "  <tbody>\n",
       "    <tr>\n",
       "      <th>Chrome</th>\n",
       "      <td>2411</td>\n",
       "      <td>1501</td>\n",
       "      <td>2157</td>\n",
       "    </tr>\n",
       "    <tr>\n",
       "      <th>FireFox</th>\n",
       "      <td>914</td>\n",
       "      <td>437</td>\n",
       "      <td>991</td>\n",
       "    </tr>\n",
       "    <tr>\n",
       "      <th>IE</th>\n",
       "      <td>1234</td>\n",
       "      <td>749</td>\n",
       "      <td>1204</td>\n",
       "    </tr>\n",
       "    <tr>\n",
       "      <th>Opera</th>\n",
       "      <td>100</td>\n",
       "      <td>82</td>\n",
       "      <td>146</td>\n",
       "    </tr>\n",
       "    <tr>\n",
       "      <th>Safari</th>\n",
       "      <td>854</td>\n",
       "      <td>457</td>\n",
       "      <td>914</td>\n",
       "    </tr>\n",
       "  </tbody>\n",
       "</table>\n",
       "</div>"
      ],
      "text/plain": [
       "source    Ads  Direct   SEO\n",
       "browser                    \n",
       "Chrome   2411    1501  2157\n",
       "FireFox   914     437   991\n",
       "IE       1234     749  1204\n",
       "Opera     100      82   146\n",
       "Safari    854     457   914"
      ]
     },
     "execution_count": 56,
     "metadata": {},
     "output_type": "execute_result"
    }
   ],
   "source": [
    "pd.pivot_table(data=fraudDatasetQ3B,\n",
    "               index='browser',\n",
    "               columns='source',\n",
    "               values='is_fraud',\n",
    "               aggfunc='sum')"
   ]
  },
  {
   "cell_type": "markdown",
   "metadata": {},
   "source": [
    "### Q4 : Calculate the following evaluation metrics for the two confusion matrix given above: (6)\n",
    "\n",
    "### Accuracy \n",
    "### Recall \n",
    "### Precision "
   ]
  },
  {
   "cell_type": "markdown",
   "metadata": {},
   "source": [
    "#### Defining Functions Metrics"
   ]
  },
  {
   "cell_type": "code",
   "execution_count": 57,
   "metadata": {},
   "outputs": [],
   "source": [
    "def accuracy(TruePositive,TrueNegative,FalsePositive,FalseNegative):\n",
    "    accuracy = ((TruePositive+TrueNegative)/(TruePositive+TrueNegative+FalsePositive+FalseNegative))\n",
    "    return accuracy"
   ]
  },
  {
   "cell_type": "code",
   "execution_count": 58,
   "metadata": {},
   "outputs": [],
   "source": [
    "def recall(TruePositive,FalseNegative):\n",
    "    recall = ((TruePositive)/(TruePositive+FalseNegative))\n",
    "    return recall"
   ]
  },
  {
   "cell_type": "code",
   "execution_count": 59,
   "metadata": {},
   "outputs": [],
   "source": [
    "def precision(TruePositive,FalsePositive):\n",
    "    precision = ((TruePositive)/(TruePositive+FalsePositive))\n",
    "    return precision"
   ]
  },
  {
   "cell_type": "code",
   "execution_count": 60,
   "metadata": {},
   "outputs": [],
   "source": [
    "def F1(Precision,Recall):\n",
    "    F1 = (2*Precision*Recall)/(Precision+Recall)\n",
    "    return F1"
   ]
  },
  {
   "cell_type": "markdown",
   "metadata": {},
   "source": [
    "#### KNN"
   ]
  },
  {
   "cell_type": "code",
   "execution_count": 61,
   "metadata": {},
   "outputs": [
    {
     "data": {
      "text/plain": [
       "0.95"
      ]
     },
     "execution_count": 61,
     "metadata": {},
     "output_type": "execute_result"
    }
   ],
   "source": [
    "round((accuracy(2521,44834,397,2115)),2)"
   ]
  },
  {
   "cell_type": "code",
   "execution_count": 62,
   "metadata": {},
   "outputs": [
    {
     "data": {
      "text/plain": [
       "0.54"
      ]
     },
     "execution_count": 62,
     "metadata": {},
     "output_type": "execute_result"
    }
   ],
   "source": [
    "round((recall(2521,2115)),2)"
   ]
  },
  {
   "cell_type": "code",
   "execution_count": 63,
   "metadata": {},
   "outputs": [
    {
     "data": {
      "text/plain": [
       "0.86"
      ]
     },
     "execution_count": 63,
     "metadata": {},
     "output_type": "execute_result"
    }
   ],
   "source": [
    "round((precision(2521,397)),2)"
   ]
  },
  {
   "cell_type": "code",
   "execution_count": 64,
   "metadata": {},
   "outputs": [
    {
     "data": {
      "text/plain": [
       "0.66"
      ]
     },
     "execution_count": 64,
     "metadata": {},
     "output_type": "execute_result"
    }
   ],
   "source": [
    "round((F1(0.86,0.54)),2)"
   ]
  },
  {
   "cell_type": "markdown",
   "metadata": {},
   "source": [
    "#### Decision Tree"
   ]
  },
  {
   "cell_type": "code",
   "execution_count": 65,
   "metadata": {},
   "outputs": [
    {
     "data": {
      "text/plain": [
       "0.9"
      ]
     },
     "execution_count": 65,
     "metadata": {},
     "output_type": "execute_result"
    }
   ],
   "source": [
    "round((accuracy(2657,42340,2891,1979)),2)"
   ]
  },
  {
   "cell_type": "code",
   "execution_count": 66,
   "metadata": {},
   "outputs": [
    {
     "data": {
      "text/plain": [
       "0.57"
      ]
     },
     "execution_count": 66,
     "metadata": {},
     "output_type": "execute_result"
    }
   ],
   "source": [
    "round((recall(2657,1979)),2)"
   ]
  },
  {
   "cell_type": "code",
   "execution_count": 67,
   "metadata": {},
   "outputs": [
    {
     "data": {
      "text/plain": [
       "0.48"
      ]
     },
     "execution_count": 67,
     "metadata": {},
     "output_type": "execute_result"
    }
   ],
   "source": [
    "round((precision(2657,2891)),2)"
   ]
  },
  {
   "cell_type": "code",
   "execution_count": 68,
   "metadata": {},
   "outputs": [
    {
     "data": {
      "text/plain": [
       "0.52"
      ]
     },
     "execution_count": 68,
     "metadata": {},
     "output_type": "execute_result"
    }
   ],
   "source": [
    "round((F1(0.48,0.57)),2)"
   ]
  },
  {
   "cell_type": "markdown",
   "metadata": {},
   "source": [
    "### Conclusion: "
   ]
  },
  {
   "cell_type": "code",
   "execution_count": null,
   "metadata": {},
   "outputs": [],
   "source": []
  }
 ],
 "metadata": {
  "kernelspec": {
   "display_name": "Python 3",
   "language": "python",
   "name": "python3"
  },
  "language_info": {
   "codemirror_mode": {
    "name": "ipython",
    "version": 3
   },
   "file_extension": ".py",
   "mimetype": "text/x-python",
   "name": "python",
   "nbconvert_exporter": "python",
   "pygments_lexer": "ipython3",
   "version": "3.7.6"
  }
 },
 "nbformat": 4,
 "nbformat_minor": 2
}
