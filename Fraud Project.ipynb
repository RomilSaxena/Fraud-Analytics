{
 "cells": [
  {
   "cell_type": "code",
   "execution_count": 7,
   "metadata": {},
   "outputs": [],
   "source": [
    "# Import the numpy and pandas packages\n",
    "\n",
    "import numpy as np\n",
    "import pandas as pd"
   ]
  },
  {
   "cell_type": "code",
   "execution_count": 8,
   "metadata": {},
   "outputs": [],
   "source": [
    "fraudDataset = pd.read_excel(\"Fraud+Analytics+Dataset.xlsx\") #Loading the Dataset"
   ]
  },
  {
   "cell_type": "code",
   "execution_count": 53,
   "metadata": {
    "scrolled": false
   },
   "outputs": [
    {
     "name": "stdout",
     "output_type": "stream",
     "text": [
      "<class 'pandas.core.frame.DataFrame'>\n",
      "RangeIndex: 151112 entries, 0 to 151111\n",
      "Data columns (total 10 columns):\n",
      " #   Column          Non-Null Count   Dtype         \n",
      "---  ------          --------------   -----         \n",
      " 0   user_id         151112 non-null  int64         \n",
      " 1   signup_date     151112 non-null  datetime64[ns]\n",
      " 2   purchase date   151112 non-null  datetime64[ns]\n",
      " 3   purchase_time   151112 non-null  object        \n",
      " 4   purchase_value  151112 non-null  int64         \n",
      " 5   source          151112 non-null  object        \n",
      " 6   browser         151112 non-null  object        \n",
      " 7   sex             151112 non-null  object        \n",
      " 8   age             151112 non-null  int64         \n",
      " 9   is_fraud        151112 non-null  int64         \n",
      "dtypes: datetime64[ns](2), int64(4), object(4)\n",
      "memory usage: 11.5+ MB\n"
     ]
    }
   ],
   "source": [
    "fraudDataset.info()"
   ]
  },
  {
   "cell_type": "code",
   "execution_count": 54,
   "metadata": {},
   "outputs": [],
   "source": [
    "q2Hypotheis1CopyData = fraudDataset.copy()"
   ]
  },
  {
   "cell_type": "code",
   "execution_count": 55,
   "metadata": {},
   "outputs": [],
   "source": [
    "allFraud = q2Hypotheis1CopyData.loc[q2Hypotheis1CopyData.is_fraud == 1]"
   ]
  },
  {
   "cell_type": "code",
   "execution_count": 56,
   "metadata": {},
   "outputs": [
    {
     "data": {
      "text/html": [
       "<div>\n",
       "<style scoped>\n",
       "    .dataframe tbody tr th:only-of-type {\n",
       "        vertical-align: middle;\n",
       "    }\n",
       "\n",
       "    .dataframe tbody tr th {\n",
       "        vertical-align: top;\n",
       "    }\n",
       "\n",
       "    .dataframe thead th {\n",
       "        text-align: right;\n",
       "    }\n",
       "</style>\n",
       "<table border=\"1\" class=\"dataframe\">\n",
       "  <thead>\n",
       "    <tr style=\"text-align: right;\">\n",
       "      <th></th>\n",
       "      <th>user_id</th>\n",
       "      <th>signup_date</th>\n",
       "      <th>purchase date</th>\n",
       "      <th>purchase_time</th>\n",
       "      <th>purchase_value</th>\n",
       "      <th>source</th>\n",
       "      <th>browser</th>\n",
       "      <th>sex</th>\n",
       "      <th>age</th>\n",
       "      <th>is_fraud</th>\n",
       "    </tr>\n",
       "  </thead>\n",
       "  <tbody>\n",
       "    <tr>\n",
       "      <th>2</th>\n",
       "      <td>1359</td>\n",
       "      <td>2015-01-01 18:52:44</td>\n",
       "      <td>2015-01-01</td>\n",
       "      <td>18:52:45</td>\n",
       "      <td>15</td>\n",
       "      <td>SEO</td>\n",
       "      <td>Opera</td>\n",
       "      <td>M</td>\n",
       "      <td>53</td>\n",
       "      <td>1</td>\n",
       "    </tr>\n",
       "    <tr>\n",
       "      <th>24</th>\n",
       "      <td>171711</td>\n",
       "      <td>2015-01-11 01:51:15</td>\n",
       "      <td>2015-01-11</td>\n",
       "      <td>01:51:16</td>\n",
       "      <td>52</td>\n",
       "      <td>Direct</td>\n",
       "      <td>IE</td>\n",
       "      <td>F</td>\n",
       "      <td>35</td>\n",
       "      <td>1</td>\n",
       "    </tr>\n",
       "    <tr>\n",
       "      <th>25</th>\n",
       "      <td>59780</td>\n",
       "      <td>2015-01-04 22:32:33</td>\n",
       "      <td>2015-01-16</td>\n",
       "      <td>01:13:43</td>\n",
       "      <td>31</td>\n",
       "      <td>SEO</td>\n",
       "      <td>FireFox</td>\n",
       "      <td>M</td>\n",
       "      <td>36</td>\n",
       "      <td>1</td>\n",
       "    </tr>\n",
       "    <tr>\n",
       "      <th>29</th>\n",
       "      <td>151705</td>\n",
       "      <td>2015-01-07 03:44:53</td>\n",
       "      <td>2015-01-07</td>\n",
       "      <td>03:44:54</td>\n",
       "      <td>48</td>\n",
       "      <td>SEO</td>\n",
       "      <td>Chrome</td>\n",
       "      <td>F</td>\n",
       "      <td>27</td>\n",
       "      <td>1</td>\n",
       "    </tr>\n",
       "    <tr>\n",
       "      <th>59</th>\n",
       "      <td>345865</td>\n",
       "      <td>2015-02-01 05:59:23</td>\n",
       "      <td>2015-02-20</td>\n",
       "      <td>08:09:10</td>\n",
       "      <td>36</td>\n",
       "      <td>SEO</td>\n",
       "      <td>IE</td>\n",
       "      <td>M</td>\n",
       "      <td>30</td>\n",
       "      <td>1</td>\n",
       "    </tr>\n",
       "    <tr>\n",
       "      <th>...</th>\n",
       "      <td>...</td>\n",
       "      <td>...</td>\n",
       "      <td>...</td>\n",
       "      <td>...</td>\n",
       "      <td>...</td>\n",
       "      <td>...</td>\n",
       "      <td>...</td>\n",
       "      <td>...</td>\n",
       "      <td>...</td>\n",
       "      <td>...</td>\n",
       "    </tr>\n",
       "    <tr>\n",
       "      <th>151082</th>\n",
       "      <td>305464</td>\n",
       "      <td>2015-01-07 09:06:55</td>\n",
       "      <td>2015-01-07</td>\n",
       "      <td>09:06:56</td>\n",
       "      <td>90</td>\n",
       "      <td>SEO</td>\n",
       "      <td>IE</td>\n",
       "      <td>M</td>\n",
       "      <td>34</td>\n",
       "      <td>1</td>\n",
       "    </tr>\n",
       "    <tr>\n",
       "      <th>151099</th>\n",
       "      <td>115473</td>\n",
       "      <td>2015-01-01 07:26:14</td>\n",
       "      <td>2015-01-01</td>\n",
       "      <td>07:26:15</td>\n",
       "      <td>61</td>\n",
       "      <td>Direct</td>\n",
       "      <td>IE</td>\n",
       "      <td>M</td>\n",
       "      <td>24</td>\n",
       "      <td>1</td>\n",
       "    </tr>\n",
       "    <tr>\n",
       "      <th>151103</th>\n",
       "      <td>5557</td>\n",
       "      <td>2015-01-04 23:03:04</td>\n",
       "      <td>2015-01-04</td>\n",
       "      <td>23:03:05</td>\n",
       "      <td>27</td>\n",
       "      <td>Direct</td>\n",
       "      <td>Chrome</td>\n",
       "      <td>M</td>\n",
       "      <td>39</td>\n",
       "      <td>1</td>\n",
       "    </tr>\n",
       "    <tr>\n",
       "      <th>151104</th>\n",
       "      <td>252360</td>\n",
       "      <td>2015-01-04 09:40:44</td>\n",
       "      <td>2015-01-04</td>\n",
       "      <td>09:40:45</td>\n",
       "      <td>20</td>\n",
       "      <td>Ads</td>\n",
       "      <td>IE</td>\n",
       "      <td>F</td>\n",
       "      <td>39</td>\n",
       "      <td>1</td>\n",
       "    </tr>\n",
       "    <tr>\n",
       "      <th>151107</th>\n",
       "      <td>345170</td>\n",
       "      <td>2015-01-27 03:03:34</td>\n",
       "      <td>2015-03-29</td>\n",
       "      <td>00:30:47</td>\n",
       "      <td>43</td>\n",
       "      <td>SEO</td>\n",
       "      <td>Chrome</td>\n",
       "      <td>M</td>\n",
       "      <td>28</td>\n",
       "      <td>1</td>\n",
       "    </tr>\n",
       "  </tbody>\n",
       "</table>\n",
       "<p>14151 rows × 10 columns</p>\n",
       "</div>"
      ],
      "text/plain": [
       "        user_id         signup_date purchase date purchase_time  \\\n",
       "2          1359 2015-01-01 18:52:44    2015-01-01      18:52:45   \n",
       "24       171711 2015-01-11 01:51:15    2015-01-11      01:51:16   \n",
       "25        59780 2015-01-04 22:32:33    2015-01-16      01:13:43   \n",
       "29       151705 2015-01-07 03:44:53    2015-01-07      03:44:54   \n",
       "59       345865 2015-02-01 05:59:23    2015-02-20      08:09:10   \n",
       "...         ...                 ...           ...           ...   \n",
       "151082   305464 2015-01-07 09:06:55    2015-01-07      09:06:56   \n",
       "151099   115473 2015-01-01 07:26:14    2015-01-01      07:26:15   \n",
       "151103     5557 2015-01-04 23:03:04    2015-01-04      23:03:05   \n",
       "151104   252360 2015-01-04 09:40:44    2015-01-04      09:40:45   \n",
       "151107   345170 2015-01-27 03:03:34    2015-03-29      00:30:47   \n",
       "\n",
       "        purchase_value  source  browser sex  age  is_fraud  \n",
       "2                   15     SEO    Opera   M   53         1  \n",
       "24                  52  Direct       IE   F   35         1  \n",
       "25                  31     SEO  FireFox   M   36         1  \n",
       "29                  48     SEO   Chrome   F   27         1  \n",
       "59                  36     SEO       IE   M   30         1  \n",
       "...                ...     ...      ...  ..  ...       ...  \n",
       "151082              90     SEO       IE   M   34         1  \n",
       "151099              61  Direct       IE   M   24         1  \n",
       "151103              27  Direct   Chrome   M   39         1  \n",
       "151104              20     Ads       IE   F   39         1  \n",
       "151107              43     SEO   Chrome   M   28         1  \n",
       "\n",
       "[14151 rows x 10 columns]"
      ]
     },
     "execution_count": 56,
     "metadata": {},
     "output_type": "execute_result"
    }
   ],
   "source": [
    "allFraud"
   ]
  },
  {
   "cell_type": "code",
   "execution_count": 74,
   "metadata": {},
   "outputs": [
    {
     "data": {
      "text/plain": [
       "(14151,)"
      ]
     },
     "execution_count": 74,
     "metadata": {},
     "output_type": "execute_result"
    }
   ],
   "source": [
    "allFraud['is_fraud'].shape"
   ]
  },
  {
   "cell_type": "code",
   "execution_count": 58,
   "metadata": {},
   "outputs": [
    {
     "name": "stderr",
     "output_type": "stream",
     "text": [
      "C:\\Users\\My-PC\\anaconda3\\lib\\site-packages\\ipykernel_launcher.py:1: SettingWithCopyWarning: \n",
      "A value is trying to be set on a copy of a slice from a DataFrame.\n",
      "Try using .loc[row_indexer,col_indexer] = value instead\n",
      "\n",
      "See the caveats in the documentation: https://pandas.pydata.org/pandas-docs/stable/user_guide/indexing.html#returning-a-view-versus-a-copy\n",
      "  \"\"\"Entry point for launching an IPython kernel.\n"
     ]
    }
   ],
   "source": [
    "allFraud['signup_onlydate'] = pd.to_datetime(allFraud['signup_date'].dt.date)"
   ]
  },
  {
   "cell_type": "code",
   "execution_count": 75,
   "metadata": {
    "scrolled": true
   },
   "outputs": [],
   "source": [
    "sameDateAsPurchaseDateDf = allFraud.loc[allFraud['signup_onlydate'] == allFraud['purchase date']]"
   ]
  },
  {
   "cell_type": "code",
   "execution_count": 76,
   "metadata": {},
   "outputs": [
    {
     "data": {
      "text/html": [
       "<div>\n",
       "<style scoped>\n",
       "    .dataframe tbody tr th:only-of-type {\n",
       "        vertical-align: middle;\n",
       "    }\n",
       "\n",
       "    .dataframe tbody tr th {\n",
       "        vertical-align: top;\n",
       "    }\n",
       "\n",
       "    .dataframe thead th {\n",
       "        text-align: right;\n",
       "    }\n",
       "</style>\n",
       "<table border=\"1\" class=\"dataframe\">\n",
       "  <thead>\n",
       "    <tr style=\"text-align: right;\">\n",
       "      <th></th>\n",
       "      <th>user_id</th>\n",
       "      <th>signup_date</th>\n",
       "      <th>purchase date</th>\n",
       "      <th>purchase_time</th>\n",
       "      <th>purchase_value</th>\n",
       "      <th>source</th>\n",
       "      <th>browser</th>\n",
       "      <th>sex</th>\n",
       "      <th>age</th>\n",
       "      <th>is_fraud</th>\n",
       "      <th>signup_onlydate</th>\n",
       "    </tr>\n",
       "  </thead>\n",
       "  <tbody>\n",
       "    <tr>\n",
       "      <th>2</th>\n",
       "      <td>1359</td>\n",
       "      <td>2015-01-01 18:52:44</td>\n",
       "      <td>2015-01-01</td>\n",
       "      <td>18:52:45</td>\n",
       "      <td>15</td>\n",
       "      <td>SEO</td>\n",
       "      <td>Opera</td>\n",
       "      <td>M</td>\n",
       "      <td>53</td>\n",
       "      <td>1</td>\n",
       "      <td>2015-01-01</td>\n",
       "    </tr>\n",
       "    <tr>\n",
       "      <th>24</th>\n",
       "      <td>171711</td>\n",
       "      <td>2015-01-11 01:51:15</td>\n",
       "      <td>2015-01-11</td>\n",
       "      <td>01:51:16</td>\n",
       "      <td>52</td>\n",
       "      <td>Direct</td>\n",
       "      <td>IE</td>\n",
       "      <td>F</td>\n",
       "      <td>35</td>\n",
       "      <td>1</td>\n",
       "      <td>2015-01-11</td>\n",
       "    </tr>\n",
       "    <tr>\n",
       "      <th>29</th>\n",
       "      <td>151705</td>\n",
       "      <td>2015-01-07 03:44:53</td>\n",
       "      <td>2015-01-07</td>\n",
       "      <td>03:44:54</td>\n",
       "      <td>48</td>\n",
       "      <td>SEO</td>\n",
       "      <td>Chrome</td>\n",
       "      <td>F</td>\n",
       "      <td>27</td>\n",
       "      <td>1</td>\n",
       "      <td>2015-01-07</td>\n",
       "    </tr>\n",
       "    <tr>\n",
       "      <th>64</th>\n",
       "      <td>181004</td>\n",
       "      <td>2015-01-07 17:45:16</td>\n",
       "      <td>2015-01-07</td>\n",
       "      <td>17:45:17</td>\n",
       "      <td>10</td>\n",
       "      <td>Ads</td>\n",
       "      <td>FireFox</td>\n",
       "      <td>M</td>\n",
       "      <td>36</td>\n",
       "      <td>1</td>\n",
       "      <td>2015-01-07</td>\n",
       "    </tr>\n",
       "    <tr>\n",
       "      <th>77</th>\n",
       "      <td>392706</td>\n",
       "      <td>2015-01-07 08:15:53</td>\n",
       "      <td>2015-01-07</td>\n",
       "      <td>08:15:54</td>\n",
       "      <td>65</td>\n",
       "      <td>SEO</td>\n",
       "      <td>Opera</td>\n",
       "      <td>F</td>\n",
       "      <td>30</td>\n",
       "      <td>1</td>\n",
       "      <td>2015-01-07</td>\n",
       "    </tr>\n",
       "    <tr>\n",
       "      <th>...</th>\n",
       "      <td>...</td>\n",
       "      <td>...</td>\n",
       "      <td>...</td>\n",
       "      <td>...</td>\n",
       "      <td>...</td>\n",
       "      <td>...</td>\n",
       "      <td>...</td>\n",
       "      <td>...</td>\n",
       "      <td>...</td>\n",
       "      <td>...</td>\n",
       "      <td>...</td>\n",
       "    </tr>\n",
       "    <tr>\n",
       "      <th>151036</th>\n",
       "      <td>330098</td>\n",
       "      <td>2015-01-03 12:52:15</td>\n",
       "      <td>2015-01-03</td>\n",
       "      <td>12:52:16</td>\n",
       "      <td>38</td>\n",
       "      <td>Ads</td>\n",
       "      <td>Chrome</td>\n",
       "      <td>M</td>\n",
       "      <td>27</td>\n",
       "      <td>1</td>\n",
       "      <td>2015-01-03</td>\n",
       "    </tr>\n",
       "    <tr>\n",
       "      <th>151082</th>\n",
       "      <td>305464</td>\n",
       "      <td>2015-01-07 09:06:55</td>\n",
       "      <td>2015-01-07</td>\n",
       "      <td>09:06:56</td>\n",
       "      <td>90</td>\n",
       "      <td>SEO</td>\n",
       "      <td>IE</td>\n",
       "      <td>M</td>\n",
       "      <td>34</td>\n",
       "      <td>1</td>\n",
       "      <td>2015-01-07</td>\n",
       "    </tr>\n",
       "    <tr>\n",
       "      <th>151099</th>\n",
       "      <td>115473</td>\n",
       "      <td>2015-01-01 07:26:14</td>\n",
       "      <td>2015-01-01</td>\n",
       "      <td>07:26:15</td>\n",
       "      <td>61</td>\n",
       "      <td>Direct</td>\n",
       "      <td>IE</td>\n",
       "      <td>M</td>\n",
       "      <td>24</td>\n",
       "      <td>1</td>\n",
       "      <td>2015-01-01</td>\n",
       "    </tr>\n",
       "    <tr>\n",
       "      <th>151103</th>\n",
       "      <td>5557</td>\n",
       "      <td>2015-01-04 23:03:04</td>\n",
       "      <td>2015-01-04</td>\n",
       "      <td>23:03:05</td>\n",
       "      <td>27</td>\n",
       "      <td>Direct</td>\n",
       "      <td>Chrome</td>\n",
       "      <td>M</td>\n",
       "      <td>39</td>\n",
       "      <td>1</td>\n",
       "      <td>2015-01-04</td>\n",
       "    </tr>\n",
       "    <tr>\n",
       "      <th>151104</th>\n",
       "      <td>252360</td>\n",
       "      <td>2015-01-04 09:40:44</td>\n",
       "      <td>2015-01-04</td>\n",
       "      <td>09:40:45</td>\n",
       "      <td>20</td>\n",
       "      <td>Ads</td>\n",
       "      <td>IE</td>\n",
       "      <td>F</td>\n",
       "      <td>39</td>\n",
       "      <td>1</td>\n",
       "      <td>2015-01-04</td>\n",
       "    </tr>\n",
       "  </tbody>\n",
       "</table>\n",
       "<p>7630 rows × 11 columns</p>\n",
       "</div>"
      ],
      "text/plain": [
       "        user_id         signup_date purchase date purchase_time  \\\n",
       "2          1359 2015-01-01 18:52:44    2015-01-01      18:52:45   \n",
       "24       171711 2015-01-11 01:51:15    2015-01-11      01:51:16   \n",
       "29       151705 2015-01-07 03:44:53    2015-01-07      03:44:54   \n",
       "64       181004 2015-01-07 17:45:16    2015-01-07      17:45:17   \n",
       "77       392706 2015-01-07 08:15:53    2015-01-07      08:15:54   \n",
       "...         ...                 ...           ...           ...   \n",
       "151036   330098 2015-01-03 12:52:15    2015-01-03      12:52:16   \n",
       "151082   305464 2015-01-07 09:06:55    2015-01-07      09:06:56   \n",
       "151099   115473 2015-01-01 07:26:14    2015-01-01      07:26:15   \n",
       "151103     5557 2015-01-04 23:03:04    2015-01-04      23:03:05   \n",
       "151104   252360 2015-01-04 09:40:44    2015-01-04      09:40:45   \n",
       "\n",
       "        purchase_value  source  browser sex  age  is_fraud signup_onlydate  \n",
       "2                   15     SEO    Opera   M   53         1      2015-01-01  \n",
       "24                  52  Direct       IE   F   35         1      2015-01-11  \n",
       "29                  48     SEO   Chrome   F   27         1      2015-01-07  \n",
       "64                  10     Ads  FireFox   M   36         1      2015-01-07  \n",
       "77                  65     SEO    Opera   F   30         1      2015-01-07  \n",
       "...                ...     ...      ...  ..  ...       ...             ...  \n",
       "151036              38     Ads   Chrome   M   27         1      2015-01-03  \n",
       "151082              90     SEO       IE   M   34         1      2015-01-07  \n",
       "151099              61  Direct       IE   M   24         1      2015-01-01  \n",
       "151103              27  Direct   Chrome   M   39         1      2015-01-04  \n",
       "151104              20     Ads       IE   F   39         1      2015-01-04  \n",
       "\n",
       "[7630 rows x 11 columns]"
      ]
     },
     "execution_count": 76,
     "metadata": {},
     "output_type": "execute_result"
    }
   ],
   "source": [
    "sameDateAsPurchaseDateDf"
   ]
  },
  {
   "cell_type": "code",
   "execution_count": 105,
   "metadata": {},
   "outputs": [
    {
     "data": {
      "text/plain": [
       "7630"
      ]
     },
     "execution_count": 105,
     "metadata": {},
     "output_type": "execute_result"
    }
   ],
   "source": [
    "TotalCountOfRecordsForSameSignUpDateAsPurchaseDate = sameDateAsPurchaseDateDf['is_fraud'].shape[0]\n",
    "TotalCountOfRecordsForSameSignUpDateAsPurchaseDate"
   ]
  },
  {
   "cell_type": "code",
   "execution_count": 106,
   "metadata": {},
   "outputs": [
    {
     "data": {
      "text/plain": [
       "14151"
      ]
     },
     "execution_count": 106,
     "metadata": {},
     "output_type": "execute_result"
    }
   ],
   "source": [
    "TotalCountOfFraudalentRecords = allFraud['is_fraud'].shape[0]\n",
    "TotalCountOfFraudalentRecords"
   ]
  },
  {
   "cell_type": "code",
   "execution_count": 104,
   "metadata": {},
   "outputs": [
    {
     "data": {
      "text/plain": [
       "54"
      ]
     },
     "execution_count": 104,
     "metadata": {},
     "output_type": "execute_result"
    }
   ],
   "source": [
    "PercentageOfSameSignupVsPurchase = round(TotalCountOfRecordsForSameSignUpDateAsPurchaseDate*100/TotalCountOfFraudalentRecords)\n",
    "PercentageOfSameSignupVsPurchase"
   ]
  },
  {
   "cell_type": "code",
   "execution_count": 81,
   "metadata": {},
   "outputs": [],
   "source": [
    "# We can see that there are 14151 records which are marked as Fraud in the dataset,\n",
    "# Also 7630 transactions happened where the SignUp Date was same as Purchase Date\n",
    "# We can clearly see that 54% fraudalent transction happened when the SignUpDate was same as Purchase Date therefore the Hypothesis \" Transactions that occur within the same date as sign-up have a higher probability of being fraudulent in nature.\" is TRUE"
   ]
  },
  {
   "cell_type": "code",
   "execution_count": null,
   "metadata": {},
   "outputs": [],
   "source": [
    "\n"
   ]
  },
  {
   "cell_type": "code",
   "execution_count": null,
   "metadata": {},
   "outputs": [],
   "source": []
  },
  {
   "cell_type": "code",
   "execution_count": 61,
   "metadata": {},
   "outputs": [],
   "source": [
    "####################################################################################################################"
   ]
  },
  {
   "cell_type": "code",
   "execution_count": null,
   "metadata": {},
   "outputs": [],
   "source": []
  },
  {
   "cell_type": "code",
   "execution_count": null,
   "metadata": {},
   "outputs": [],
   "source": []
  },
  {
   "cell_type": "code",
   "execution_count": null,
   "metadata": {},
   "outputs": [],
   "source": []
  },
  {
   "cell_type": "code",
   "execution_count": null,
   "metadata": {},
   "outputs": [],
   "source": []
  },
  {
   "cell_type": "code",
   "execution_count": null,
   "metadata": {},
   "outputs": [],
   "source": []
  },
  {
   "cell_type": "code",
   "execution_count": null,
   "metadata": {},
   "outputs": [],
   "source": []
  },
  {
   "cell_type": "code",
   "execution_count": null,
   "metadata": {},
   "outputs": [],
   "source": []
  },
  {
   "cell_type": "code",
   "execution_count": null,
   "metadata": {},
   "outputs": [],
   "source": []
  },
  {
   "cell_type": "code",
   "execution_count": null,
   "metadata": {},
   "outputs": [],
   "source": []
  },
  {
   "cell_type": "code",
   "execution_count": null,
   "metadata": {},
   "outputs": [],
   "source": []
  },
  {
   "cell_type": "code",
   "execution_count": null,
   "metadata": {},
   "outputs": [],
   "source": []
  },
  {
   "cell_type": "code",
   "execution_count": null,
   "metadata": {},
   "outputs": [],
   "source": []
  },
  {
   "cell_type": "code",
   "execution_count": null,
   "metadata": {},
   "outputs": [],
   "source": []
  },
  {
   "cell_type": "code",
   "execution_count": null,
   "metadata": {},
   "outputs": [],
   "source": []
  },
  {
   "cell_type": "code",
   "execution_count": null,
   "metadata": {},
   "outputs": [],
   "source": []
  },
  {
   "cell_type": "code",
   "execution_count": null,
   "metadata": {},
   "outputs": [],
   "source": []
  },
  {
   "cell_type": "code",
   "execution_count": null,
   "metadata": {},
   "outputs": [],
   "source": []
  },
  {
   "cell_type": "code",
   "execution_count": null,
   "metadata": {},
   "outputs": [],
   "source": []
  },
  {
   "cell_type": "code",
   "execution_count": null,
   "metadata": {},
   "outputs": [],
   "source": []
  },
  {
   "cell_type": "code",
   "execution_count": null,
   "metadata": {},
   "outputs": [],
   "source": []
  },
  {
   "cell_type": "code",
   "execution_count": null,
   "metadata": {},
   "outputs": [],
   "source": []
  },
  {
   "cell_type": "code",
   "execution_count": null,
   "metadata": {},
   "outputs": [],
   "source": []
  },
  {
   "cell_type": "code",
   "execution_count": null,
   "metadata": {},
   "outputs": [],
   "source": []
  },
  {
   "cell_type": "code",
   "execution_count": null,
   "metadata": {},
   "outputs": [],
   "source": []
  },
  {
   "cell_type": "code",
   "execution_count": null,
   "metadata": {},
   "outputs": [],
   "source": []
  },
  {
   "cell_type": "code",
   "execution_count": null,
   "metadata": {},
   "outputs": [],
   "source": []
  },
  {
   "cell_type": "code",
   "execution_count": null,
   "metadata": {},
   "outputs": [],
   "source": []
  },
  {
   "cell_type": "code",
   "execution_count": null,
   "metadata": {},
   "outputs": [],
   "source": []
  },
  {
   "cell_type": "code",
   "execution_count": null,
   "metadata": {},
   "outputs": [],
   "source": []
  },
  {
   "cell_type": "code",
   "execution_count": null,
   "metadata": {},
   "outputs": [],
   "source": []
  },
  {
   "cell_type": "code",
   "execution_count": null,
   "metadata": {},
   "outputs": [],
   "source": []
  },
  {
   "cell_type": "code",
   "execution_count": null,
   "metadata": {},
   "outputs": [],
   "source": []
  }
 ],
 "metadata": {
  "kernelspec": {
   "display_name": "Python 3",
   "language": "python",
   "name": "python3"
  },
  "language_info": {
   "codemirror_mode": {
    "name": "ipython",
    "version": 3
   },
   "file_extension": ".py",
   "mimetype": "text/x-python",
   "name": "python",
   "nbconvert_exporter": "python",
   "pygments_lexer": "ipython3",
   "version": "3.7.6"
  }
 },
 "nbformat": 4,
 "nbformat_minor": 4
}
